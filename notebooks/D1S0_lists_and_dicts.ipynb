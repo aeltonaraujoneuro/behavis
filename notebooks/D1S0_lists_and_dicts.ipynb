{
 "cells": [
  {
   "cell_type": "markdown",
   "metadata": {},
   "source": [
    "## Python Review: Storing Data in the **List** and **Dict** Data Structures\n",
    "\n",
    "Let's warm up our Python skills by practicing data organization with Lists and Dicts!"
   ]
  },
  {
   "cell_type": "markdown",
   "metadata": {},
   "source": [
    "\n",
    "\n",
    "### Lists\n",
    "\n",
    "| Code | Description |\n",
    "| :-- | :-- |\n",
    "| **`data = []`** | Makes an empty List | \n",
    "| **`data = [10, 11, 12]`** | Makes a List with 3 items: `10`, `11`, and `12` |\n",
    "| **`data = ['a', 'b', 'c']`** | Makes a List with 3 items: `10`, `11`, and `12` |\n",
    "| **`data[0]`** | Accesses the first element in the list |\n",
    "| **`data[-1]`** | Accesses the last element in the list |\n",
    "| **`data[1:]`** | Accesses the second-through-end elements in the list |\n",
    "| **`data[1] = 7`** | Replaces with second element in the list with the element `7` |\n",
    "| **`data.append(100)`** | Append a new element `100` on to the end of the list |\n",
    "\n"
   ]
  },
  {
   "cell_type": "markdown",
   "metadata": {},
   "source": [
    "**Exercises**"
   ]
  },
  {
   "cell_type": "markdown",
   "metadata": {},
   "source": [
    "**Example**: Make a list of three names of European countries."
   ]
  },
  {
   "cell_type": "code",
   "execution_count": 1,
   "metadata": {},
   "outputs": [
    {
     "data": {
      "text/plain": [
       "['Germany', 'France', 'England']"
      ]
     },
     "execution_count": 1,
     "metadata": {},
     "output_type": "execute_result"
    }
   ],
   "source": [
    "countries = ['Germany', 'France', 'England']\n",
    "countries"
   ]
  },
  {
   "cell_type": "markdown",
   "metadata": {},
   "source": [
    "Make a list of three scientists."
   ]
  },
  {
   "cell_type": "code",
   "execution_count": 2,
   "metadata": {},
   "outputs": [],
   "source": [
    "scientists = [\"Rose\", \"Einstein\", \"Newton\"]"
   ]
  },
  {
   "cell_type": "markdown",
   "metadata": {},
   "source": [
    "Display the second scientist in your list"
   ]
  },
  {
   "cell_type": "code",
   "execution_count": 3,
   "metadata": {},
   "outputs": [
    {
     "data": {
      "text/plain": [
       "'Einstein'"
      ]
     },
     "execution_count": 3,
     "metadata": {},
     "output_type": "execute_result"
    }
   ],
   "source": [
    "scientists[1]"
   ]
  },
  {
   "cell_type": "markdown",
   "metadata": {},
   "source": [
    "Replace the third scientist with `\"Wilhelm Wundt\"`"
   ]
  },
  {
   "cell_type": "code",
   "execution_count": 4,
   "metadata": {},
   "outputs": [],
   "source": [
    "scientists[2] = \"Wilhelm Wundt\""
   ]
  },
  {
   "cell_type": "markdown",
   "metadata": {},
   "source": [
    "Use the list's `.append()` method to put Max Planck onto the end of the list."
   ]
  },
  {
   "cell_type": "code",
   "execution_count": 5,
   "metadata": {},
   "outputs": [],
   "source": [
    "scientists.append(\"Max Planck\")"
   ]
  },
  {
   "cell_type": "markdown",
   "metadata": {},
   "source": [
    "Remove the first scientist from the list using the list's `.pop()` method"
   ]
  },
  {
   "cell_type": "code",
   "execution_count": 7,
   "metadata": {},
   "outputs": [
    {
     "data": {
      "text/plain": [
       "['Einstein', 'Wilhelm Wundt', 'Max Planck']"
      ]
     },
     "execution_count": 7,
     "metadata": {},
     "output_type": "execute_result"
    }
   ],
   "source": [
    "scientists.pop(0)\n",
    "scientists"
   ]
  },
  {
   "cell_type": "markdown",
   "metadata": {},
   "source": [
    "**Extra**: Use the string's `.count()` method to count how many W letters there are in the second string in the list of scientists."
   ]
  },
  {
   "cell_type": "code",
   "execution_count": 9,
   "metadata": {},
   "outputs": [
    {
     "data": {
      "text/plain": [
       "2"
      ]
     },
     "execution_count": 9,
     "metadata": {},
     "output_type": "execute_result"
    }
   ],
   "source": [
    "scientists[1].count(\"W\")"
   ]
  },
  {
   "cell_type": "markdown",
   "metadata": {},
   "source": [
    "\n",
    "### Dicts\n",
    "\n",
    "| Code | Description |\n",
    "| :-- | :-- |\n",
    "| **`data = {}`** | Makes an empty Dict | \n",
    "| **`data = {'a': 3, 'b': 5}`** | Makes a Dict with two items: \"a\" and \"b\" |\n",
    "| **`data['a']`** | Accesses the value associated with key 'a' |\n",
    "| **`data['c'] = 7`** | Adds a new key-value pair 'c': 7 to the Dict |\n",
    "| **`list(data.keys())`** | Retrieves a list of all keys in the Dict |\n",
    "| **`list(data.values())`** | Retrieves a list of all values in the Dict |"
   ]
  },
  {
   "cell_type": "markdown",
   "metadata": {},
   "source": [
    "**Exercises**"
   ]
  },
  {
   "cell_type": "markdown",
   "metadata": {},
   "source": [
    "The `image` dict describes how researcher Tom's recording is formatted:"
   ]
  },
  {
   "cell_type": "code",
   "execution_count": 10,
   "metadata": {},
   "outputs": [
    {
     "data": {
      "text/plain": [
       "{'height': 1920, 'width': 1080, 'format': 'RGB', 'order': 'F'}"
      ]
     },
     "execution_count": 10,
     "metadata": {},
     "output_type": "execute_result"
    }
   ],
   "source": [
    "image = {'height': 1920, 'width': 1080, 'format': 'RGB', 'order': 'F'}\n",
    "image"
   ]
  },
  {
   "cell_type": "markdown",
   "metadata": {},
   "source": [
    "**Example**: Write the code to print out the width of the image, by accessing the `\"width\"` key:"
   ]
  },
  {
   "cell_type": "code",
   "execution_count": 11,
   "metadata": {},
   "outputs": [
    {
     "data": {
      "text/plain": [
       "1080"
      ]
     },
     "execution_count": 11,
     "metadata": {},
     "output_type": "execute_result"
    }
   ],
   "source": [
    "image['width']"
   ]
  },
  {
   "cell_type": "markdown",
   "metadata": {},
   "source": [
    "What is the height of the image?"
   ]
  },
  {
   "cell_type": "code",
   "execution_count": 13,
   "metadata": {},
   "outputs": [
    {
     "data": {
      "text/plain": [
       "1920"
      ]
     },
     "execution_count": 13,
     "metadata": {},
     "output_type": "execute_result"
    }
   ],
   "source": [
    "image['height']"
   ]
  },
  {
   "cell_type": "markdown",
   "metadata": {},
   "source": [
    "How are the pixel data in the image formatted?"
   ]
  },
  {
   "cell_type": "code",
   "execution_count": 14,
   "metadata": {},
   "outputs": [
    {
     "data": {
      "text/plain": [
       "'RGB'"
      ]
     },
     "execution_count": 14,
     "metadata": {},
     "output_type": "execute_result"
    }
   ],
   "source": [
    "image['format']"
   ]
  },
  {
   "cell_type": "markdown",
   "metadata": {},
   "source": [
    "What does the error message say, if you use the same syntax to find out which key has the value `1080` ?  What does this tell you about how key-value maps like Dictionaries are designed for?"
   ]
  },
  {
   "cell_type": "code",
   "execution_count": 15,
   "metadata": {},
   "outputs": [
    {
     "ename": "KeyError",
     "evalue": "1080",
     "output_type": "error",
     "traceback": [
      "\u001b[1;31m---------------------------------------------------------------------------\u001b[0m",
      "\u001b[1;31mKeyError\u001b[0m                                  Traceback (most recent call last)",
      "Cell \u001b[1;32mIn[15], line 1\u001b[0m\n\u001b[1;32m----> 1\u001b[0m \u001b[43mimage\u001b[49m\u001b[43m[\u001b[49m\u001b[38;5;241;43m1080\u001b[39;49m\u001b[43m]\u001b[49m\n",
      "\u001b[1;31mKeyError\u001b[0m: 1080"
     ]
    }
   ],
   "source": [
    "image[1080]"
   ]
  },
  {
   "cell_type": "markdown",
   "metadata": {},
   "source": [
    "## Building a Schema for a Data Model: Mixing Dicts and Lists\n",
    "\n",
    "Dictionaries and Lists are quite flexible, allowing any data type to be stored alongside any other data type, but without an organization plan, the code around analyzing the data they store can get quite complex.  Building a **\"schema\"**, a model for your data that is the same for each record in your project that is applied consistently, makes the data easy to browse and analyze.\n",
    "\n",
    "For example, weather data could be stored like:\n",
    "\n",
    "```python\n",
    "weather = [\n",
    "    {'date': '2024-11-20',\n",
    "     'morning_condition': 'sunny',\n",
    "     'afternoon_condition', 'rainy',\n",
    "     'hourly_temperatures': [20, 21, 20, 18, 16, 14, 13],\n",
    "    },\n",
    "    {'date': '2024-11-21',\n",
    "     'morning_condition': 'sunny',\n",
    "     'afternoon_condition', 'cloudy',\n",
    "     'hourly_temperatures': [18, 16, 20, 18, 16, 14, 13],\n",
    "    },\n",
    "]\n",
    "```\n",
    "\n",
    "Getting the third hourly temperature for the second record would then be done like this:\n",
    "\n",
    "```python\n",
    "weather[1]['hourly_temperatures'][2]\n",
    "```\n",
    ".\n",
    "\n",
    "Because the data is consistently-stored, getting all the morning conditions for analysis can be done like this:\n",
    "```python\n",
    "morning_conditions = [day['morning_condition'] for day in weather]\n",
    "```\n",
    ".\n",
    "\n"
   ]
  },
  {
   "cell_type": "markdown",
   "metadata": {},
   "source": [
    "**Exercises**:  Using any schema you'd like, organize the information these two sessions into a single data structure:\n",
    "  - Nov 13, 2024: Subject Jeff did 3 trials: first with a red circle stimulus on the left side, then a green square on the right, then a green circle on the right.\n",
    "  - Nov 14, 2024: Subject Jane did 2 trials: first with a green square stimulus on the right side, then a red circle on the left.\n",
    "\n",
    "**Note**: There is no one right answer here; every data structure has its advantages and disadvantages.  Feel free to organize the data as you see fit."
   ]
  },
  {
   "cell_type": "code",
   "execution_count": 17,
   "metadata": {},
   "outputs": [],
   "source": [
    "my_data = [{'date': '2024-11-13', 'subject': 'Jeff', \n",
    "               'trials':\n",
    "               [{'trial': 1, 'shape': 'circle', 'color': 'red', 'side': 'left'},\n",
    "                {'trial': 2, 'shape': 'square', 'color': 'green', 'side': 'right'},\n",
    "                {'trial': 3, 'shape': 'circle', 'color': 'green', 'side': 'right'}]},\n",
    "                {'date': '2024-11-14', 'subject': 'Jane',\n",
    "                 'trials':\n",
    "                 [{'trial': 1, 'shape': 'square', 'color': 'green', 'side': 'right'},\n",
    "                  {'trial': 2, 'shape': 'circle', 'color': 'red', 'side': 'left'}]}]\n",
    "               "
   ]
  },
  {
   "cell_type": "code",
   "execution_count": 18,
   "metadata": {},
   "outputs": [
    {
     "data": {
      "text/plain": [
       "'Jane'"
      ]
     },
     "execution_count": 18,
     "metadata": {},
     "output_type": "execute_result"
    }
   ],
   "source": [
    "my_data[1][\"subject\"]"
   ]
  },
  {
   "cell_type": "markdown",
   "metadata": {},
   "source": [
    "Using your data, get the 2nd trial's stimulus color from the first session."
   ]
  },
  {
   "cell_type": "code",
   "execution_count": 19,
   "metadata": {},
   "outputs": [
    {
     "data": {
      "text/plain": [
       "'green'"
      ]
     },
     "execution_count": 19,
     "metadata": {},
     "output_type": "execute_result"
    }
   ],
   "source": [
    "my_data[0]['trials'][1]['color']"
   ]
  }
 ],
 "metadata": {
  "kernelspec": {
   "display_name": "ds",
   "language": "python",
   "name": "python3"
  },
  "language_info": {
   "codemirror_mode": {
    "name": "ipython",
    "version": 3
   },
   "file_extension": ".py",
   "mimetype": "text/x-python",
   "name": "python",
   "nbconvert_exporter": "python",
   "pygments_lexer": "ipython3",
   "version": "3.10.14"
  }
 },
 "nbformat": 4,
 "nbformat_minor": 2
}
