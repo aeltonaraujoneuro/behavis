{
 "cells": [
  {
   "cell_type": "code",
   "execution_count": 1,
   "metadata": {},
   "outputs": [
    {
     "name": "stdout",
     "output_type": "stream",
     "text": [
      "Requirement already satisfied: allensdk in c:\\myprograms\\anaconda\\envs\\behavis\\lib\\site-packages (2.16.2)\n",
      "Requirement already satisfied: psycopg2-binary in c:\\myprograms\\anaconda\\envs\\behavis\\lib\\site-packages (from allensdk) (2.9.9)\n",
      "Requirement already satisfied: hdmf!=3.5.*,!=3.6.*,!=3.7.*,!=3.8.* in c:\\myprograms\\anaconda\\envs\\behavis\\lib\\site-packages (from allensdk) (3.14.5)\n",
      "Requirement already satisfied: h5py in c:\\myprograms\\anaconda\\envs\\behavis\\lib\\site-packages (from allensdk) (3.12.1)\n",
      "Requirement already satisfied: matplotlib in c:\\myprograms\\anaconda\\envs\\behavis\\lib\\site-packages (from allensdk) (3.9.2)\n",
      "Requirement already satisfied: numpy<1.24 in c:\\myprograms\\anaconda\\envs\\behavis\\lib\\site-packages (from allensdk) (1.23.5)\n",
      "Requirement already satisfied: pandas==1.5.3 in c:\\myprograms\\anaconda\\envs\\behavis\\lib\\site-packages (from allensdk) (1.5.3)\n",
      "Requirement already satisfied: jinja2 in c:\\myprograms\\anaconda\\envs\\behavis\\lib\\site-packages (from allensdk) (3.1.4)\n",
      "Requirement already satisfied: scipy<1.11 in c:\\myprograms\\anaconda\\envs\\behavis\\lib\\site-packages (from allensdk) (1.10.1)\n",
      "Requirement already satisfied: six in c:\\myprograms\\anaconda\\envs\\behavis\\lib\\site-packages (from allensdk) (1.16.0)\n",
      "Requirement already satisfied: pynrrd in c:\\myprograms\\anaconda\\envs\\behavis\\lib\\site-packages (from allensdk) (1.0.0)\n",
      "Requirement already satisfied: future in c:\\myprograms\\anaconda\\envs\\behavis\\lib\\site-packages (from allensdk) (1.0.0)\n",
      "Requirement already satisfied: requests in c:\\myprograms\\anaconda\\envs\\behavis\\lib\\site-packages (from allensdk) (2.32.3)\n",
      "Requirement already satisfied: requests-toolbelt in c:\\myprograms\\anaconda\\envs\\behavis\\lib\\site-packages (from allensdk) (1.0.0)\n",
      "Requirement already satisfied: simplejson in c:\\myprograms\\anaconda\\envs\\behavis\\lib\\site-packages (from allensdk) (3.19.3)\n",
      "Requirement already satisfied: scikit-image in c:\\myprograms\\anaconda\\envs\\behavis\\lib\\site-packages (from allensdk) (0.24.0)\n",
      "Requirement already satisfied: scikit-build in c:\\myprograms\\anaconda\\envs\\behavis\\lib\\site-packages (from allensdk) (0.18.1)\n",
      "Requirement already satisfied: statsmodels in c:\\myprograms\\anaconda\\envs\\behavis\\lib\\site-packages (from allensdk) (0.14.4)\n",
      "Requirement already satisfied: simpleitk in c:\\myprograms\\anaconda\\envs\\behavis\\lib\\site-packages (from allensdk) (2.4.0)\n",
      "Requirement already satisfied: argschema in c:\\myprograms\\anaconda\\envs\\behavis\\lib\\site-packages (from allensdk) (3.0.4)\n",
      "Requirement already satisfied: glymur in c:\\myprograms\\anaconda\\envs\\behavis\\lib\\site-packages (from allensdk) (0.13.6)\n",
      "Requirement already satisfied: xarray<2023.2.0 in c:\\myprograms\\anaconda\\envs\\behavis\\lib\\site-packages (from allensdk) (2023.1.0)\n",
      "Requirement already satisfied: pynwb in c:\\myprograms\\anaconda\\envs\\behavis\\lib\\site-packages (from allensdk) (2.8.2)\n",
      "Requirement already satisfied: tables in c:\\myprograms\\anaconda\\envs\\behavis\\lib\\site-packages (from allensdk) (3.10.1)\n",
      "Requirement already satisfied: seaborn in c:\\myprograms\\anaconda\\envs\\behavis\\lib\\site-packages (from allensdk) (0.13.2)\n",
      "Requirement already satisfied: aiohttp in c:\\myprograms\\anaconda\\envs\\behavis\\lib\\site-packages (from allensdk) (3.10.10)\n",
      "Requirement already satisfied: nest-asyncio in c:\\myprograms\\anaconda\\envs\\behavis\\lib\\site-packages (from allensdk) (1.6.0)\n",
      "Requirement already satisfied: tqdm in c:\\myprograms\\anaconda\\envs\\behavis\\lib\\site-packages (from allensdk) (4.66.5)\n",
      "Requirement already satisfied: ndx-events in c:\\myprograms\\anaconda\\envs\\behavis\\lib\\site-packages (from allensdk) (0.2.0)\n",
      "Requirement already satisfied: boto3 in c:\\myprograms\\anaconda\\envs\\behavis\\lib\\site-packages (from allensdk) (1.35.38)\n",
      "Requirement already satisfied: semver in c:\\myprograms\\anaconda\\envs\\behavis\\lib\\site-packages (from allensdk) (3.0.2)\n",
      "Requirement already satisfied: cachetools in c:\\myprograms\\anaconda\\envs\\behavis\\lib\\site-packages (from allensdk) (5.5.0)\n",
      "Requirement already satisfied: sqlalchemy in c:\\myprograms\\anaconda\\envs\\behavis\\lib\\site-packages (from allensdk) (2.0.35)\n",
      "Requirement already satisfied: python-dateutil in c:\\myprograms\\anaconda\\envs\\behavis\\lib\\site-packages (from allensdk) (2.9.0.post0)\n",
      "Requirement already satisfied: pytz>=2020.1 in c:\\myprograms\\anaconda\\envs\\behavis\\lib\\site-packages (from pandas==1.5.3->allensdk) (2024.1)\n",
      "Requirement already satisfied: jsonschema>=2.6.0 in c:\\myprograms\\anaconda\\envs\\behavis\\lib\\site-packages (from hdmf!=3.5.*,!=3.6.*,!=3.7.*,!=3.8.*->allensdk) (4.23.0)\n",
      "Requirement already satisfied: ruamel-yaml>=0.16 in c:\\myprograms\\anaconda\\envs\\behavis\\lib\\site-packages (from hdmf!=3.5.*,!=3.6.*,!=3.7.*,!=3.8.*->allensdk) (0.18.6)\n",
      "Requirement already satisfied: packaging>=21.3 in c:\\myprograms\\anaconda\\envs\\behavis\\lib\\site-packages (from xarray<2023.2.0->allensdk) (24.1)\n",
      "Requirement already satisfied: aiohappyeyeballs>=2.3.0 in c:\\myprograms\\anaconda\\envs\\behavis\\lib\\site-packages (from aiohttp->allensdk) (2.4.3)\n",
      "Requirement already satisfied: aiosignal>=1.1.2 in c:\\myprograms\\anaconda\\envs\\behavis\\lib\\site-packages (from aiohttp->allensdk) (1.3.1)\n",
      "Requirement already satisfied: attrs>=17.3.0 in c:\\myprograms\\anaconda\\envs\\behavis\\lib\\site-packages (from aiohttp->allensdk) (24.2.0)\n",
      "Requirement already satisfied: frozenlist>=1.1.1 in c:\\myprograms\\anaconda\\envs\\behavis\\lib\\site-packages (from aiohttp->allensdk) (1.4.1)\n",
      "Requirement already satisfied: multidict<7.0,>=4.5 in c:\\myprograms\\anaconda\\envs\\behavis\\lib\\site-packages (from aiohttp->allensdk) (6.1.0)\n",
      "Requirement already satisfied: yarl<2.0,>=1.12.0 in c:\\myprograms\\anaconda\\envs\\behavis\\lib\\site-packages (from aiohttp->allensdk) (1.14.0)\n",
      "Requirement already satisfied: async-timeout<5.0,>=4.0 in c:\\myprograms\\anaconda\\envs\\behavis\\lib\\site-packages (from aiohttp->allensdk) (4.0.3)\n",
      "Requirement already satisfied: marshmallow<4.0,>=3.0.0 in c:\\myprograms\\anaconda\\envs\\behavis\\lib\\site-packages (from argschema->allensdk) (3.22.0)\n",
      "Requirement already satisfied: pyyaml in c:\\myprograms\\anaconda\\envs\\behavis\\lib\\site-packages (from argschema->allensdk) (6.0.2)\n",
      "Requirement already satisfied: botocore<1.36.0,>=1.35.38 in c:\\myprograms\\anaconda\\envs\\behavis\\lib\\site-packages (from boto3->allensdk) (1.35.38)\n",
      "Requirement already satisfied: jmespath<2.0.0,>=0.7.1 in c:\\myprograms\\anaconda\\envs\\behavis\\lib\\site-packages (from boto3->allensdk) (1.0.1)\n",
      "Requirement already satisfied: s3transfer<0.11.0,>=0.10.0 in c:\\myprograms\\anaconda\\envs\\behavis\\lib\\site-packages (from boto3->allensdk) (0.10.3)\n",
      "Requirement already satisfied: lxml in c:\\myprograms\\anaconda\\envs\\behavis\\lib\\site-packages (from glymur->allensdk) (5.3.0)\n",
      "Requirement already satisfied: MarkupSafe>=2.0 in c:\\myprograms\\anaconda\\envs\\behavis\\lib\\site-packages (from jinja2->allensdk) (3.0.1)\n",
      "Requirement already satisfied: contourpy>=1.0.1 in c:\\myprograms\\anaconda\\envs\\behavis\\lib\\site-packages (from matplotlib->allensdk) (1.3.0)\n",
      "Requirement already satisfied: cycler>=0.10 in c:\\myprograms\\anaconda\\envs\\behavis\\lib\\site-packages (from matplotlib->allensdk) (0.12.1)\n",
      "Requirement already satisfied: fonttools>=4.22.0 in c:\\myprograms\\anaconda\\envs\\behavis\\lib\\site-packages (from matplotlib->allensdk) (4.54.1)\n",
      "Requirement already satisfied: kiwisolver>=1.3.1 in c:\\myprograms\\anaconda\\envs\\behavis\\lib\\site-packages (from matplotlib->allensdk) (1.4.7)\n",
      "Requirement already satisfied: pillow>=8 in c:\\myprograms\\anaconda\\envs\\behavis\\lib\\site-packages (from matplotlib->allensdk) (10.4.0)\n",
      "Requirement already satisfied: pyparsing>=2.3.1 in c:\\myprograms\\anaconda\\envs\\behavis\\lib\\site-packages (from matplotlib->allensdk) (3.1.4)\n",
      "Requirement already satisfied: nptyping in c:\\myprograms\\anaconda\\envs\\behavis\\lib\\site-packages (from pynrrd->allensdk) (2.5.0)\n",
      "Requirement already satisfied: typing-extensions in c:\\myprograms\\anaconda\\envs\\behavis\\lib\\site-packages (from pynrrd->allensdk) (4.12.2)\n",
      "Requirement already satisfied: charset-normalizer<4,>=2 in c:\\myprograms\\anaconda\\envs\\behavis\\lib\\site-packages (from requests->allensdk) (3.4.0)\n",
      "Requirement already satisfied: idna<4,>=2.5 in c:\\myprograms\\anaconda\\envs\\behavis\\lib\\site-packages (from requests->allensdk) (3.10)\n",
      "Requirement already satisfied: urllib3<3,>=1.21.1 in c:\\myprograms\\anaconda\\envs\\behavis\\lib\\site-packages (from requests->allensdk) (2.2.3)\n",
      "Requirement already satisfied: certifi>=2017.4.17 in c:\\myprograms\\anaconda\\envs\\behavis\\lib\\site-packages (from requests->allensdk) (2024.8.30)\n",
      "Requirement already satisfied: distro in c:\\myprograms\\anaconda\\envs\\behavis\\lib\\site-packages (from scikit-build->allensdk) (1.9.0)\n",
      "Requirement already satisfied: setuptools>=42.0.0 in c:\\myprograms\\anaconda\\envs\\behavis\\lib\\site-packages (from scikit-build->allensdk) (75.1.0)\n",
      "Requirement already satisfied: tomli in c:\\myprograms\\anaconda\\envs\\behavis\\lib\\site-packages (from scikit-build->allensdk) (2.0.2)\n",
      "Requirement already satisfied: wheel>=0.32.0 in c:\\myprograms\\anaconda\\envs\\behavis\\lib\\site-packages (from scikit-build->allensdk) (0.44.0)\n",
      "Requirement already satisfied: networkx>=2.8 in c:\\myprograms\\anaconda\\envs\\behavis\\lib\\site-packages (from scikit-image->allensdk) (3.4)\n",
      "Requirement already satisfied: imageio>=2.33 in c:\\myprograms\\anaconda\\envs\\behavis\\lib\\site-packages (from scikit-image->allensdk) (2.35.1)\n",
      "Requirement already satisfied: tifffile>=2022.8.12 in c:\\myprograms\\anaconda\\envs\\behavis\\lib\\site-packages (from scikit-image->allensdk) (2024.9.20)\n",
      "Requirement already satisfied: lazy-loader>=0.4 in c:\\myprograms\\anaconda\\envs\\behavis\\lib\\site-packages (from scikit-image->allensdk) (0.4)\n",
      "Requirement already satisfied: greenlet!=0.4.17 in c:\\myprograms\\anaconda\\envs\\behavis\\lib\\site-packages (from sqlalchemy->allensdk) (3.1.1)\n",
      "Requirement already satisfied: patsy>=0.5.6 in c:\\myprograms\\anaconda\\envs\\behavis\\lib\\site-packages (from statsmodels->allensdk) (0.5.6)\n",
      "Requirement already satisfied: numexpr>=2.6.2 in c:\\myprograms\\anaconda\\envs\\behavis\\lib\\site-packages (from tables->allensdk) (2.8.7)\n",
      "Requirement already satisfied: py-cpuinfo in c:\\myprograms\\anaconda\\envs\\behavis\\lib\\site-packages (from tables->allensdk) (9.0.0)\n",
      "Requirement already satisfied: blosc2>=2.3.0 in c:\\myprograms\\anaconda\\envs\\behavis\\lib\\site-packages (from tables->allensdk) (2.7.1)\n",
      "Requirement already satisfied: colorama in c:\\myprograms\\anaconda\\envs\\behavis\\lib\\site-packages (from tqdm->allensdk) (0.4.6)\n",
      "Requirement already satisfied: ndindex>=1.4 in c:\\myprograms\\anaconda\\envs\\behavis\\lib\\site-packages (from blosc2>=2.3.0->tables->allensdk) (1.9.2)\n",
      "Requirement already satisfied: msgpack in c:\\myprograms\\anaconda\\envs\\behavis\\lib\\site-packages (from blosc2>=2.3.0->tables->allensdk) (1.1.0)\n",
      "Requirement already satisfied: jsonschema-specifications>=2023.03.6 in c:\\myprograms\\anaconda\\envs\\behavis\\lib\\site-packages (from jsonschema>=2.6.0->hdmf!=3.5.*,!=3.6.*,!=3.7.*,!=3.8.*->allensdk) (2024.10.1)\n",
      "Requirement already satisfied: referencing>=0.28.4 in c:\\myprograms\\anaconda\\envs\\behavis\\lib\\site-packages (from jsonschema>=2.6.0->hdmf!=3.5.*,!=3.6.*,!=3.7.*,!=3.8.*->allensdk) (0.35.1)\n",
      "Requirement already satisfied: rpds-py>=0.7.1 in c:\\myprograms\\anaconda\\envs\\behavis\\lib\\site-packages (from jsonschema>=2.6.0->hdmf!=3.5.*,!=3.6.*,!=3.7.*,!=3.8.*->allensdk) (0.20.0)\n",
      "Requirement already satisfied: ruamel.yaml.clib>=0.2.7 in c:\\myprograms\\anaconda\\envs\\behavis\\lib\\site-packages (from ruamel-yaml>=0.16->hdmf!=3.5.*,!=3.6.*,!=3.7.*,!=3.8.*->allensdk) (0.2.8)\n",
      "Requirement already satisfied: propcache>=0.2.0 in c:\\myprograms\\anaconda\\envs\\behavis\\lib\\site-packages (from yarl<2.0,>=1.12.0->aiohttp->allensdk) (0.2.0)\n"
     ]
    }
   ],
   "source": [
    "!pip install allensdk"
   ]
  },
  {
   "cell_type": "code",
   "execution_count": 1,
   "metadata": {},
   "outputs": [
    {
     "name": "stderr",
     "output_type": "stream",
     "text": [
      "c:\\myprograms\\Anaconda\\envs\\behavis\\lib\\site-packages\\tqdm\\auto.py:21: TqdmWarning: IProgress not found. Please update jupyter and ipywidgets. See https://ipywidgets.readthedocs.io/en/stable/user_install.html\n",
      "  from .autonotebook import tqdm as notebook_tqdm\n"
     ]
    }
   ],
   "source": [
    "import numpy as np\n",
    "import pandas as pd\n",
    "from pathlib import Path\n",
    "import matplotlib.pyplot as plt\n",
    "from allensdk.brain_observatory.behavior.behavior_project_cache import VisualBehaviorNeuropixelsProjectCache\n",
    "import allensdk"
   ]
  },
  {
   "cell_type": "code",
   "execution_count": 2,
   "metadata": {},
   "outputs": [
    {
     "name": "stdout",
     "output_type": "stream",
     "text": [
      "Your allensdk version is: 2.16.2\n"
     ]
    }
   ],
   "source": [
    "\n",
    "# Confirming your allensdk version\n",
    "print(f\"Your allensdk version is: {allensdk.__version__}\")"
   ]
  },
  {
   "cell_type": "code",
   "execution_count": 3,
   "metadata": {},
   "outputs": [],
   "source": [
    "# Update this to a valid directory in your filesystem. This is where the data will be stored.\n",
    "output_dir = \"D:\\Visual Behavior Neuropixels AI\"\n",
    "DOWNLOAD_COMPLETE_DATASET = False"
   ]
  },
  {
   "cell_type": "code",
   "execution_count": 4,
   "metadata": {},
   "outputs": [],
   "source": [
    "output_dir = Path(output_dir)\n",
    "cache = VisualBehaviorNeuropixelsProjectCache.from_s3_cache(cache_dir=output_dir)\n",
    "# Load latest manifest\n",
    "cache.load_latest_manifest()"
   ]
  },
  {
   "cell_type": "code",
   "execution_count": 5,
   "metadata": {},
   "outputs": [
    {
     "name": "stdout",
     "output_type": "stream",
     "text": [
      "Total number of ecephys sessions: 103\n",
      "Total number of behavior sessions: 3424\n",
      "Total number of units: 319013\n",
      "Total number of probes: 905\n",
      "Total number of channels: 347520\n"
     ]
    }
   ],
   "source": [
    "ecephys_sessions = cache.get_ecephys_session_table()\n",
    "print(f\"Total number of ecephys sessions: {len(ecephys_sessions)}\")\n",
    "behavior_sessions = cache.get_behavior_session_table()\n",
    "print(f\"Total number of behavior sessions: {len(behavior_sessions)}\")\n",
    "units = cache.get_unit_table()\n",
    "print(f\"Total number of units: {len(units)}\")\n",
    "probes = cache.get_probe_table()\n",
    "print(f\"Total number of probes: {len(probes)}\")\n",
    "channels = cache.get_channel_table()\n",
    "print(f\"Total number of channels: {len(channels)}\")"
   ]
  },
  {
   "cell_type": "code",
   "execution_count": null,
   "metadata": {},
   "outputs": [],
   "source": [
    "# behavior_sessions['session_type']\n",
    "mask = (behavior_sessions['session_type'] == 'EPHYS_1_images_G_3uL_reward') | (behavior_sessions['session_type'] == 'EPHYS_1_images_H_3uL_reward')\n",
    "ephys_behavior_sessions = behavior_sessions[mask]\n",
    "ecephys_sessions_ids = ephys_behavior_sessions['ecephys_session_id'].values"
   ]
  },
  {
   "cell_type": "code",
   "execution_count": 8,
   "metadata": {},
   "outputs": [],
   "source": [
    "# behavior_sessions.columns"
   ]
  },
  {
   "cell_type": "code",
   "execution_count": 7,
   "metadata": {},
   "outputs": [],
   "source": [
    "# behavior_sessions['session_type'].value_counts()"
   ]
  },
  {
   "cell_type": "code",
   "execution_count": 9,
   "metadata": {},
   "outputs": [],
   "source": [
    "# # mask = behavior_sessions['mouse_id'] == 544835\n",
    "# mask = behavior_sessions['session_type'] == 'EPHYS_1_images_G_3uL_reward'\n",
    "# g_sessions = behavior_sessions[mask]\n",
    "# mask = (behavior_sessions['age_in_days'] > 150) & (behavior_sessions['age_in_days'] <= 170)\n",
    "\n",
    "# g_sessions = g_sessions[mask]\n",
    "\n",
    "# # behavior_sessions['session_type'].unique()\n",
    "# display(g_sessions[['sex','genotype']].value_counts())"
   ]
  },
  {
   "cell_type": "code",
   "execution_count": 10,
   "metadata": {},
   "outputs": [],
   "source": [
    "# display(g_sessions[g_sessions['sex']=='F'])\n",
    "# # g_sessions['mouse_id'].value_counts()"
   ]
  },
  {
   "cell_type": "code",
   "execution_count": 70,
   "metadata": {},
   "outputs": [],
   "source": [
    "# ecephys_sessions_list = [1056495334, 1061238668, 1124507277]\n",
    "# name_list = [\"wt\", \"vip\", \"sst\"]\t\n",
    "# common_values = behavior_sessions['ecephys_session_id'].isin(ecephys_sessions_list)\n",
    "# behavior_sessions[common_values]"
   ]
  },
  {
   "cell_type": "code",
   "execution_count": null,
   "metadata": {},
   "outputs": [],
   "source": [
    "# ecephys_sessions_list = [1056495334, 1061238668, 1124507277]\n",
    "ecephys_sessions_list = [1056495334]\n",
    "# name_list = [\"wt\", \"vip\", \"sst\"]\t\n",
    "name_list = [\"wt\"]\n",
    "common_values"
   ]
  },
  {
   "cell_type": "code",
   "execution_count": 12,
   "metadata": {},
   "outputs": [
    {
     "name": "stdout",
     "output_type": "stream",
     "text": [
      "Loading session 1056495334 wt\n"
     ]
    },
    {
     "name": "stderr",
     "output_type": "stream",
     "text": [
      "c:\\myprograms\\Anaconda\\envs\\behavis\\lib\\site-packages\\hdmf\\spec\\namespace.py:535: UserWarning: Ignoring cached namespace 'core' version 2.6.0-alpha because version 2.7.0 is already loaded.\n",
      "  warn(\"Ignoring cached namespace '%s' version %s because version %s is already loaded.\"\n"
     ]
    }
   ],
   "source": [
    "for session_id, name in zip(ecephys_sessions_list, name_list):\n",
    "    print(\"Loading session\",session_id, name)\n",
    "    globals()[f'session_{name}'] = cache.get_ecephys_session(ecephys_session_id=session_id)\n"
   ]
  },
  {
   "cell_type": "markdown",
   "metadata": {},
   "source": [
    "# Slicing data by stimulus timestamps"
   ]
  },
  {
   "cell_type": "code",
   "execution_count": 30,
   "metadata": {},
   "outputs": [],
   "source": [
    "stimulus_presentations = session_wt.stimulus_presentations\n",
    "# stimulus_presentations.columns"
   ]
  },
  {
   "cell_type": "code",
   "execution_count": 14,
   "metadata": {},
   "outputs": [
    {
     "data": {
      "text/plain": [
       "False    4621\n",
       "True      182\n",
       "Name: omitted, dtype: Int64"
      ]
     },
     "execution_count": 14,
     "metadata": {},
     "output_type": "execute_result"
    }
   ],
   "source": [
    "mask = (stimulus_presentations['stimulus_block'] == 0) \n",
    "nat_imgs = stimulus_presentations[mask]\n",
    "nat_imgs[\"omitted\"].value_counts()    "
   ]
  },
  {
   "cell_type": "code",
   "execution_count": 16,
   "metadata": {},
   "outputs": [],
   "source": [
    "mask = nat_imgs[\"omitted\"]==True\n",
    "idx = nat_imgs[mask].index.to_numpy()\n",
    "\n",
    "# nat_imgs.iloc[all_idxs].head(20)"
   ]
  },
  {
   "cell_type": "code",
   "execution_count": 17,
   "metadata": {},
   "outputs": [
    {
     "data": {
      "text/plain": [
       "1847"
      ]
     },
     "execution_count": 17,
     "metadata": {},
     "output_type": "execute_result"
    }
   ],
   "source": [
    "all_idxs = []\n",
    "for i in idx:\n",
    "    omitted_stim = nat_imgs.iloc[i-1]['image_name']\n",
    "    all_idxs.append(i)\n",
    "    all_idxs.append(i+1)\n",
    "    \n",
    "    count = 1\n",
    "    stop = 0\n",
    "    while stop == 0:\n",
    "        if nat_imgs.iloc[i-count]['image_name'] == omitted_stim:\n",
    "            all_idxs.append(i-count)\n",
    "        else:\n",
    "            stop = 1           \n",
    "        count += 1   \n",
    "all_idxs = list(set(all_idxs))\n",
    "# len(all_idxs)  \n",
    "all_idxs.sort()\n",
    "omission_sequences = nat_imgs.iloc[all_idxs]    \n",
    "    # all_idxs.append(i+1)"
   ]
  },
  {
   "cell_type": "code",
   "execution_count": 27,
   "metadata": {},
   "outputs": [
    {
     "name": "stdout",
     "output_type": "stream",
     "text": [
      "Appended 1056630213 ['VISam', 'grey', 'root']\n",
      "Appended 1056630214 ['VISpm', 'grey', 'root']\n",
      "Appended 1056630215 ['VISp', 'grey', 'root']\n",
      "Appended 1056630217 ['VISl', 'grey', 'root']\n",
      "Appended 1056630218 ['VISal', 'grey', 'root']\n",
      "Appended 1056630219 ['VISrl', 'grey', 'root']\n"
     ]
    }
   ],
   "source": [
    "mask = probes['ecephys_session_id']==1056495334\n",
    "ecephys_session_probes = probes[mask]\n",
    "probes_list = []\n",
    "for row in ecephys_session_probes.iterrows():\n",
    "    if not any(acronym in region_dict['midbrain'] for acronym in row[1]['structure_acronyms']):\n",
    "        probes_list.append(row[0])\n",
    "        print(\"Appended\", row[0],row[1]['structure_acronyms'])\n",
    "    \n",
    "    # probes_list.append(row[1]['id'])\n",
    "# if ecephys_session_probes['structure_acronyms']\n"
   ]
  },
  {
   "cell_type": "code",
   "execution_count": null,
   "metadata": {},
   "outputs": [],
   "source": [
    "ecephys_session_probes"
   ]
  },
  {
   "cell_type": "code",
   "execution_count": null,
   "metadata": {},
   "outputs": [
    {
     "name": "stderr",
     "output_type": "stream",
     "text": [
      "probe_probeA_lfp.nwb:  18%|█▊        | 852M/4.74G [20:42<1:39:01, 655kMB/s]    "
     ]
    }
   ],
   "source": [
    "session_wt.get_lfp(probes_list[0])\n"
   ]
  },
  {
   "cell_type": "code",
   "execution_count": null,
   "metadata": {},
   "outputs": [],
   "source": [
    "def align_lfp(lfp, trial_window, alignment_times, trial_ids = None):\n",
    "    '''\n",
    "    Aligns the LFP data array to experiment times of interest\n",
    "    INPUTS:\n",
    "        lfp: data array containing LFP data for one probe insertion\n",
    "        trial_window: vector specifying the time points to excise around each alignment time\n",
    "        alignment_times: experiment times around which to excise data\n",
    "        trial_ids: indices in the session stim table specifying which stimuli to use for alignment.\n",
    "                    None if aligning to non-stimulus times\n",
    "    \n",
    "    OUTPUT:\n",
    "        aligned data array with dimensions channels x trials x time\n",
    "    '''\n",
    "    \n",
    "    time_selection = np.concatenate([trial_window + t for t in alignment_times])\n",
    "    \n",
    "    if trial_ids is None:\n",
    "        trial_ids = np.arange(len(alignment_times))\n",
    "        \n",
    "    inds = pd.MultiIndex.from_product((trial_ids, trial_window), \n",
    "                                      names=('presentation_id', 'time_from_presentation_onset'))\n",
    "\n",
    "    ds = lfp.sel(time = time_selection, method='nearest').to_dataset(name = 'aligned_lfp')\n",
    "    ds = ds.assign(time=inds).unstack('time')\n",
    "\n",
    "    return ds['aligned_lfp']"
   ]
  },
  {
   "cell_type": "code",
   "execution_count": null,
   "metadata": {},
   "outputs": [],
   "source": [
    "presentation_times = omission_sequences['start_time'].values\n",
    "presentation_ids = omission_sequences.index.values"
   ]
  },
  {
   "cell_type": "code",
   "execution_count": null,
   "metadata": {},
   "outputs": [],
   "source": [
    "# below is aligned lfp data downsampled to 500 Hz\n",
    "aligned_lfp = align_lfp(lfp, np.arange(-0.5, 0.5, 1/500), presentation_times, presentation_ids)"
   ]
  }
 ],
 "metadata": {
  "kernelspec": {
   "display_name": "behavis",
   "language": "python",
   "name": "python3"
  },
  "language_info": {
   "codemirror_mode": {
    "name": "ipython",
    "version": 3
   },
   "file_extension": ".py",
   "mimetype": "text/x-python",
   "name": "python",
   "nbconvert_exporter": "python",
   "pygments_lexer": "ipython3",
   "version": "3.10.14"
  }
 },
 "nbformat": 4,
 "nbformat_minor": 2
}
