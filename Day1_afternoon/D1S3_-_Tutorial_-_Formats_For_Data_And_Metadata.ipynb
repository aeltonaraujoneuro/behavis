{
 "cells": [
  {
   "cell_type": "markdown",
   "metadata": {},
   "source": [
    "# ANDA-NI Virtual Neuroinformatics Course\n",
    "# Introduction to NIX: A Versatile Data File Format for Metadata and Measurements"
   ]
  },
  {
   "cell_type": "markdown",
   "metadata": {},
   "source": [
    "<img src=\"resources/D1S3/nix_logo.png\" alt=\"Nix Logo\" width=\"200\"/>\n",
    "\n",
    "||                                                                                |\n",
    "|--:|--------------------------------------------------------------------------------|\n",
    "|Homepage| [http://g-node.github.io/nix](http://g-node.github.io/nix)                   |\n",
    "|GitHub| [https://github.com/G-Node/nixpy](https://github.com/G-Node/nixpy)             |\n",
    "|Documentation| [https://nixpy.readthedocs.io/en/latest](https://nixpy.readthedocs.io/en/latest) |\n",
    "|Bug reports| [https://github.com/G-Node/nixpy/issues](https://github.com/G-Node/nix/issues) |\n",
    "|Python Package Index (PyPI)| [https://pypi.org/project/nixpy/](https://pypi.org/project/nixpy/)             |"
   ]
  },
  {
   "cell_type": "markdown",
   "metadata": {},
   "source": [
    "Welcome to this comprehensive tutorial on NIX, a data file format developed by the German Neuroinformatics Node (G-Node). Whether you are a researcher, data scientist, or developer working with scientific data, understanding the NIX format can significantly enhance your workflow by providing a common basis for storing and sharing complex data sets.\n",
    "\n",
    "## What is NIX?\n",
    "\n",
    "NIX (Neuroscience Information Exchange) is an open file format designed to store and organize complex scientific data. It aims to provide a standardized way to store experimental data, metadata, and related information in a consistent, easily accessible, and reproducible manner.\n",
    "\n",
    "**Key Features:**\n",
    "\n",
    "- **Hierarchical Structure:** NIX supports a hierarchical data model that allows you to organize data and metadata in a logical and intuitive way.\n",
    "- **Self-Describing Files:** Each NIX file contains not just raw data, but also comprehensive metadata that describes the data's context, making it easier to understand and reuse.\n",
    "- **Interoperability:** By adhering to a common standard, NIX files can be easily shared and understood across different software and research groups.\n",
    "\n",
    "## Why Use NIX?\n",
    "\n",
    "Research often involves dealing with diverse and complex data sets that need to be organized and annotated in a standardized fashion. Traditional file formats may lack the capability to store rich metadata or enforce consistency. NIX addresses these issues by providing a flexible and robust structure to hold various types of data and their associated metadata.\n",
    "\n",
    "Using NIX can help in:\n",
    "- **Ensuring Data Integrity:** With NIX's rigorous structuring and metadata support, your data retains its meaning and integrity over time.\n",
    "- **Facilitating Reproducibility:** By embedding descriptive metadata, NIX files make it easier to reproduce experiments and analyses.\n",
    "- **Enhancing Collaboration:** Standardized data formats foster better collaboration, as data shared among different groups maintain a consistent structure.\n",
    "  \n",
    "## Who is This Tutorial For?\n",
    "\n",
    "This tutorial is designed for:\n",
    "- **Researchers** who need to store experimental data in a structured and accessible manner.\n",
    "- **Data Scientists** looking for standardized ways to manage complex data sets and metadata.\n",
    "- **Software Developers** who are building applications that involve scientific data management and need a reliable file format.\n",
    "\n",
    "## Prerequisites\n",
    "\n",
    "Before starting this tutorial, it is recommended that you have:\n",
    "- Basic understanding of scientific research data.\n",
    "- Familiarity with concepts of data organization and metadata.\n",
    "- Basic programming knowledge, preferably in Python, as we will use Python to interact with NIX files.\n",
    "\n",
    "In this tutorial, we will cover the fundamental aspects of the NIX data file format to more advanced features. By the end, you should be able to efficiently store, manage, and share your scientific data using NIX.\n",
    "\n",
    "Let's begin our journey into the NIX data file format and explore its capabilities!"
   ]
  },
  {
   "cell_type": "markdown",
   "metadata": {},
   "source": [
    "# Basics\n",
    "\n",
    "This section covers the basics of working with nix files.\n",
    "\n",
    "1. Opening and closing nix files with different file ``FileModes``.\n",
    "2. Storing data and using dimension descriptors.\n",
    "\n",
    "## Working with files"
   ]
  },
  {
   "cell_type": "code",
   "execution_count": 2,
   "metadata": {
    "ExecuteTime": {
     "end_time": "2024-09-24T20:12:44.066731Z",
     "start_time": "2024-09-24T20:12:44.000391Z"
    }
   },
   "outputs": [
    {
     "name": "stdout",
     "output_type": "stream",
     "text": [
      "nixio library version: 1.5.3\n"
     ]
    }
   ],
   "source": [
    "import nixio\n",
    "print(\"nixio library version:\", nixio.__version__)"
   ]
  },
  {
   "cell_type": "markdown",
   "metadata": {},
   "source": [
    "### Create a new file\n",
    "\n",
    "* The following command tries to open the file \"new_data_file.nix\" in ``nix.FileMode.ReadWrite`` mode.\n",
    "* If it does not exist, it will be created."
   ]
  },
  {
   "cell_type": "code",
   "execution_count": 3,
   "metadata": {
    "ExecuteTime": {
     "end_time": "2024-09-24T20:12:44.095813Z",
     "start_time": "2024-09-24T20:12:44.092432Z"
    }
   },
   "outputs": [
    {
     "name": "stdout",
     "output_type": "stream",
     "text": [
      "file format: nix\n",
      "nix data model version: (1, 2, 1)\n"
     ]
    }
   ],
   "source": [
    "nixfile = nixio.File.open(\"new_data_file.nix\", nixio.FileMode.ReadWrite)\n",
    "print(\"file format:\", nixfile.format)\n",
    "print(\"nix data model version:\", nixfile.version)"
   ]
  },
  {
   "cell_type": "markdown",
   "metadata": {},
   "source": [
    "### nixio writes hdf5 files\n",
    "\n",
    "* The file is an HDF5 file, the standard file extension would be ``*.h5``\n",
    "* The file extension can be anything you wish.\n",
    "* We will always use ``*.nix`` to indicate how it should be opened.\n",
    "\n",
    "Files can be opened in different ``FileModes``, nixio defines three different modes:\n",
    "\n",
    "1. ``nixio.FileMode.ReadWrite`` the default mode\n",
    "2. ``nixio.FileMode.ReadOnly``\n",
    "3. ``nixio.FileMode.Overwrite``\n",
    "\n",
    "An opened file should be closed after you are done with it to finish any pending write and free any resources used by h5py."
   ]
  },
  {
   "cell_type": "code",
   "execution_count": 4,
   "metadata": {
    "ExecuteTime": {
     "end_time": "2024-09-24T20:12:44.177854Z",
     "start_time": "2024-09-24T20:12:44.152617Z"
    }
   },
   "outputs": [],
   "source": [
    "nixfile.close()"
   ]
  },
  {
   "cell_type": "markdown",
   "metadata": {},
   "source": [
    "The written file is an [HDF5](https://www.hdfgroup.org/) file, we can use the tools that are provided by the HDF5 library to access the file."
   ]
  },
  {
   "cell_type": "code",
   "execution_count": 5,
   "metadata": {
    "ExecuteTime": {
     "end_time": "2024-09-24T20:12:44.430890Z",
     "start_time": "2024-09-24T20:12:44.225029Z"
    }
   },
   "outputs": [
    {
     "name": "stderr",
     "output_type": "stream",
     "text": [
      "'h5ls' is not recognized as an internal or external command,\n",
      "operable program or batch file.\n"
     ]
    }
   ],
   "source": [
    "!h5ls -v new_data_file.nix"
   ]
  },
  {
   "cell_type": "markdown",
   "metadata": {},
   "source": [
    "# Storing data in a NIX file\n",
    "\n",
    "The main purpose of a nix file is to store data, e.g. when recording the membrane or field potential data. \n",
    "Usually, these data are read as floats representing the potential and are sampled at evenly spaced times at a given *sampling rate*.\n",
    "\n",
    "![data model](resources/D1S3/nix_regular_sampled.png)\n",
    "\n",
    "We need to store:\n",
    "- the data (voltage measurements)\n",
    "- the y-axis labeling, i.e. label (voltage) and unit (mV)\n",
    "- the x-axis labeling, i.e. label (time) and unit (s)\n",
    "- the x-position for each data point\n",
    "- a title/legend\n",
    "\n",
    "\n",
    "## The DataArray\n",
    "\n",
    "**DataArrays** store the data. They live inside a **Block** entity that is a top-level grouping element.\n",
    "\n",
    "But, it only stores the y-values!\n",
    "\n",
    "The x-positions are defined by a **Dimension** descriptor. In this case this descriptor stores:\n",
    "\n",
    "- a definition of the x-axis consisting of an offset\n",
    "- the sampling interval\n",
    "- a label\n",
    "- and a (physical) unit.\n"
   ]
  },
  {
   "cell_type": "code",
   "execution_count": 6,
   "metadata": {
    "ExecuteTime": {
     "end_time": "2024-09-24T20:12:44.464393Z",
     "start_time": "2024-09-24T20:12:44.435886Z"
    }
   },
   "outputs": [],
   "source": [
    "import nixio\n",
    "import numpy as np\n",
    "\n",
    "dt = 0.001\n",
    "duration = 10.0\n",
    "time = np.arange(0.0, duration, dt)\n",
    "voltage_data = np.sin(2 * np.pi * time * 0.5)\n",
    "\n",
    "nixfile = nixio.File.open(\"regularly_sampled_data.nix\", nixio.FileMode.Overwrite)\n",
    "block = nixfile.create_block(\"session 1\", \"nix.session\")\n",
    "array = block.create_data_array(\"sinewave\", \"nix.data.sampled\", data=voltage_data, label=\"voltage\", unit=\"Hz\")\n",
    "array.append_sampled_dimension(dt, label=\"time\", unit=\"s\")\n",
    "\n",
    "nixfile.close()\n"
   ]
  },
  {
   "cell_type": "markdown",
   "metadata": {},
   "source": [
    "## Reading Data from a DataArray\n",
    "\n",
    "Storing is one thing, reading out the information is the obvious next step...\n"
   ]
  },
  {
   "cell_type": "code",
   "execution_count": 7,
   "metadata": {
    "ExecuteTime": {
     "end_time": "2024-09-24T20:12:44.487445Z",
     "start_time": "2024-09-24T20:12:44.483447Z"
    }
   },
   "outputs": [
    {
     "name": "stdout",
     "output_type": "stream",
     "text": [
      "DataArray: {name = sinewave, type = nix.data.sampled}\n"
     ]
    }
   ],
   "source": [
    "nixfile = nixio.File.open(\"regularly_sampled_data.nix\", nixio.FileMode.ReadOnly)\n",
    "block = nixfile.blocks[\"session 1\"]\n",
    "array = block.data_arrays[\"sinewave\"]\n",
    "print(array)\n"
   ]
  },
  {
   "cell_type": "markdown",
   "metadata": {},
   "source": [
    "Cool, now we found the **DataArray** that contains the data. What to do with it? Let's find out some of it's properties."
   ]
  },
  {
   "cell_type": "code",
   "execution_count": 8,
   "metadata": {
    "ExecuteTime": {
     "end_time": "2024-09-24T20:12:44.542856Z",
     "start_time": "2024-09-24T20:12:44.539532Z"
    }
   },
   "outputs": [
    {
     "name": "stdout",
     "output_type": "stream",
     "text": [
      "Name, id, and type sinewave dfee15fc-3292-4653-b706-fb583a972dc7 nix.data.sampled\n",
      "Data extent (aka shape), and data type: (10000,) float64\n",
      "Label and unit of the data: voltage Hz\n",
      "DataArray size in memory: 48 bytes\n"
     ]
    }
   ],
   "source": [
    "print(\"Name, id, and type\", array.name, array.id, array.type)\n",
    "print(\"Data extent (aka shape), and data type:\", array.data_extent, array.dtype)\n",
    "print(\"Label and unit of the data:\", array.label, array.unit)\n",
    "import sys\n",
    "print(\"DataArray size in memory:\", sys.getsizeof(array), \"bytes\")"
   ]
  },
  {
   "cell_type": "markdown",
   "metadata": {},
   "source": [
    "The *array* object we read from file is small. It can not possibly contain 10000 double values and all the other information.\n",
    "\n",
    "**Note:** nixio objects are lightweight objects that are basically pointers to the location in the file!\n",
    "Every time we read information from it, it is a read access to the file. This makes them cheap to create and maintain in memory but reading information takes a little.\n",
    "\n",
    "So, how to read the data itself? We need to access it and can use numpy style to do so."
   ]
  },
  {
   "cell_type": "code",
   "execution_count": 9,
   "metadata": {
    "ExecuteTime": {
     "end_time": "2024-09-24T20:12:44.600612Z",
     "start_time": "2024-09-24T20:12:44.597159Z"
    }
   },
   "outputs": [
    {
     "name": "stdout",
     "output_type": "stream",
     "text": [
      "<class 'numpy.ndarray'> (10000,)\n",
      "<class 'numpy.ndarray'> (1000,)\n"
     ]
    }
   ],
   "source": [
    "sinewave_data = array[:]\n",
    "print(type(sinewave_data), sinewave_data.shape)\n",
    "\n",
    "partial_sinewave_data = array[::10]\n",
    "print(type(partial_sinewave_data), partial_sinewave_data.shape)"
   ]
  },
  {
   "cell_type": "code",
   "execution_count": 10,
   "metadata": {
    "ExecuteTime": {
     "end_time": "2024-09-24T20:12:45.035907Z",
     "start_time": "2024-09-24T20:12:44.652912Z"
    }
   },
   "outputs": [
    {
     "data": {
      "text/plain": [
       "<matplotlib.legend.Legend at 0x228c16a7f50>"
      ]
     },
     "execution_count": 10,
     "metadata": {},
     "output_type": "execute_result"
    }
   ],
   "source": [
    "%config InlineBackend.figure_formats = ['retina'] # only for users with a high resolution display\n",
    "import matplotlib.pyplot as plt\n",
    "%matplotlib inline\n",
    "\n",
    "plt.plot(sinewave_data, label=\"original\")\n",
    "plt.plot(partial_sinewave_data, label=\"subsampled\")\n",
    "plt.legend()"
   ]
  },
  {
   "cell_type": "markdown",
   "metadata": {},
   "source": [
    "\n",
    "\n",
    "\n",
    "\n",
    "It is a plot -- but some parts are missing. All this information is stored in the **DataArray**.\n",
    "\n",
    "Let's start with the y-labeling: This information is stored in the **DataArray** itself.\n"
   ]
  },
  {
   "cell_type": "code",
   "execution_count": 11,
   "metadata": {
    "ExecuteTime": {
     "end_time": "2024-09-24T20:12:45.206075Z",
     "start_time": "2024-09-24T20:12:45.052294Z"
    }
   },
   "outputs": [
    {
     "data": {
      "text/plain": [
       "Text(22.097222222222214, 0.5, 'voltage [Hz]')"
      ]
     },
     "execution_count": 11,
     "metadata": {},
     "output_type": "execute_result"
    }
   ],
   "source": [
    "plt.plot(sinewave_data, label=\"original\")\n",
    "plt.plot(partial_sinewave_data, label=\"subsampled\")\n",
    "plt.legend()\n",
    "plt.ylabel(\"%s [%s]\" % (array.label, array.unit))"
   ]
  },
  {
   "cell_type": "markdown",
   "metadata": {},
   "source": [
    "What about the x-labeling? To fix this we need to get the dimension descriptor for the time-dimension."
   ]
  },
  {
   "cell_type": "code",
   "execution_count": 12,
   "metadata": {
    "ExecuteTime": {
     "end_time": "2024-09-24T20:12:45.385484Z",
     "start_time": "2024-09-24T20:12:45.218548Z"
    }
   },
   "outputs": [
    {
     "data": {
      "text/plain": [
       "Text(0.5, 23.52222222222222, 'time [s]')"
      ]
     },
     "execution_count": 12,
     "metadata": {},
     "output_type": "execute_result"
    }
   ],
   "source": [
    "time_dimension = array.dimensions[0]\n",
    "\n",
    "plt.plot(sinewave_data, label=\"original\")\n",
    "plt.plot(partial_sinewave_data, label=\"subsampled\")\n",
    "plt.legend()\n",
    "plt.ylabel(\"%s [%s]\" % (array.label, array.unit))\n",
    "plt.xlabel(\"%s [%s]\" % (time_dimension.label, time_dimension.unit))"
   ]
  },
  {
   "cell_type": "markdown",
   "metadata": {},
   "source": [
    "So far so good. But something's still off, let's fix this:\n",
    "\n",
    "We need to use further information from the dimension descriptor (the sampling interval, and the offset) to create it with numpy, or we ask the dimension descriptor to do it for us."
   ]
  },
  {
   "cell_type": "code",
   "execution_count": 13,
   "metadata": {
    "ExecuteTime": {
     "end_time": "2024-09-24T20:12:45.580888Z",
     "start_time": "2024-09-24T20:12:45.397753Z"
    }
   },
   "outputs": [
    {
     "data": {
      "text/plain": [
       "Text(0.5, 23.52222222222222, 'time [s]')"
      ]
     },
     "execution_count": 13,
     "metadata": {},
     "output_type": "execute_result"
    }
   ],
   "source": [
    "\n",
    "time_dimension = array.dimensions[0]\n",
    "sinewave_time_axis = time_dimension.axis(len(sinewave_data))\n",
    "partial_sinewave_time_axis = sinewave_time_axis[::10]\n",
    "\n",
    "plt.plot(sinewave_time_axis, sinewave_data, label=\"original\")\n",
    "plt.plot(partial_sinewave_time_axis, partial_sinewave_data, label=\"subsampled\")\n",
    "plt.legend()\n",
    "plt.ylabel(\"%s [%s]\" % (array.label, array.unit))\n",
    "plt.xlabel(\"%s [%s]\" % (time_dimension.label, time_dimension.unit))"
   ]
  },
  {
   "cell_type": "markdown",
   "metadata": {},
   "source": [
    "**Done!** As you see, nix allows you to save the data object in its entirety and with a complete description."
   ]
  },
  {
   "cell_type": "markdown",
   "metadata": {},
   "source": [
    "## Irregularly sampled data\n",
    "\n",
    "What about data that is not regularly sampled (in time)?\n",
    "\n",
    "![data model](resources/D1S3/nix_irregular_sampled.png)\n",
    "\n",
    "A signal similar to what we had before is recorded but this time the temporal distance between the measurements is not regular. Storing this kind of data is not as efficient as in the regularly sampled case since we need to store the time of each measurement and the measured value. The following information needs to be stored to describe the dimension:\n",
    "\n",
    "1. x-positions of the data points, i.e. ticks\n",
    "2. label\n",
    "3. unit\n",
    "\n",
    "In this kind of dimension we store a range of ticks, therefore the name **RangeDimension**. It needs to be added to the **DataArray** when it is created.\n",
    "\n",
    "### Radar trap example scenario\n",
    "\n",
    "Let's consider a scenario in which information does not flow in in a steady stream but comes in irregularly such as a radar trap. With each passing car there will be a measurement but the intervals at which the measurements are taken are defined by the traffic, not the measurement system.\n"
   ]
  },
  {
   "cell_type": "code",
   "execution_count": 14,
   "metadata": {
    "ExecuteTime": {
     "end_time": "2024-09-24T20:12:45.693835Z",
     "start_time": "2024-09-24T20:12:45.592456Z"
    }
   },
   "outputs": [
    {
     "data": {
      "text/plain": [
       "<matplotlib.collections.LineCollection at 0x228c2f280b0>"
      ]
     },
     "execution_count": 14,
     "metadata": {},
     "output_type": "execute_result"
    }
   ],
   "source": [
    "import numpy as np\n",
    "\n",
    "def radar_trap_data(duration=1000, car_probability=0.15, dt=0.01, speed_limit=50, speeder_probability=0.01):\n",
    "    time = np.arange(0, duration, dt)\n",
    "    car_times = time[np.random.random(len(time)) < (car_probability * dt)]\n",
    "    car_speeds = speed_limit + np.random.randn(len(car_times)) * 0.05 * speed_limit\n",
    "    indices = np.arange(len(car_times), dtype=int)\n",
    "    np.random.shuffle(indices)\n",
    "    speeders = indices[:int(np.round(speeder_probability * len(car_times)))]\n",
    "    car_speeds[speeders] += 0.5 * speed_limit\n",
    "    return car_times, car_speeds\n",
    "\n",
    "\n",
    "times, speeds = radar_trap_data()\n",
    "\n",
    "plt.plot(times, speeds, marker=\".\", zorder=2)\n",
    "plt.hlines([50], 0, times[-1], color=\"grey\", ls=\"--\", zorder=1)"
   ]
  },
  {
   "cell_type": "code",
   "execution_count": 15,
   "metadata": {
    "ExecuteTime": {
     "end_time": "2024-09-24T20:12:45.751782Z",
     "start_time": "2024-09-24T20:12:45.704785Z"
    }
   },
   "outputs": [],
   "source": [
    "nixfile = nixio.File.open(\"radar_trap.nix\", nixio.FileMode.Overwrite)\n",
    "block = nixfile.create_block(\"radar trap\", \"speed measurements\")\n",
    "\n",
    "data_array = block.create_data_array(\"car speeds\", \"nix.irregular_sampled\", data=speeds, label=\"speed\", unit=\"km/h\")\n",
    "data_array.append_range_dimension(ticks=times, unit=\"s\", label=\"time\")\n",
    "\n",
    "nixfile.close()"
   ]
  },
  {
   "cell_type": "markdown",
   "metadata": {},
   "source": [
    "### Spike times\n",
    "\n",
    "Sometimes the times of certain events (e.g. action potentials in neurophysiology) is the the data and the dimension at the same time.\n",
    "\n",
    "Since the data is still irregularly sampled, we use a **RangeDimension** to describe the time axis but we tell it to use the \"parent\" **DataArray** as a source for the ticks.\n",
    "\n",
    "```\n",
    "spike_times = get_spike_times(data)\n",
    "\n",
    "spikes_data_array = block.create_data_array(\"spike times\", \"nix.irregular_sampled.spike_times\", data=spike_times, label=\"time\", unit=\"s\")\n",
    "spikes_data_array.append_range_dimension_using_self()\n",
    "```"
   ]
  },
  {
   "cell_type": "markdown",
   "metadata": {},
   "source": [
    "## Categorical data\n",
    "\n",
    "![data model](resources/D1S3/nix_set_dimension.png)\n",
    "\n",
    "If we need to store data that falls into categories, i.e. the x-positions are not numeric or the dimension does not have a natural order, a SetDimension is used. It stores a label for each entry along the described dimension."
   ]
  },
  {
   "cell_type": "code",
   "execution_count": 16,
   "metadata": {
    "ExecuteTime": {
     "end_time": "2024-09-24T20:12:45.806681Z",
     "start_time": "2024-09-24T20:12:45.769842Z"
    }
   },
   "outputs": [],
   "source": [
    "def create_data():\n",
    "    categories = [\"Jan\", \"Feb\", \"Mar\", \"Apr\", \"May\", \"Jun\"]\n",
    "    temperatures = [100, 110, 95, 150, 200, 250]\n",
    "\n",
    "    return temperatures, categories\n",
    "\n",
    "temperatures, months = create_data()\n",
    "\n",
    "nixfile = nixio.File.open(\"categorical_data.nix\", nixio.FileMode.Overwrite)\n",
    "\n",
    "block = nixfile.create_block(\"weather data\", \"test\")\n",
    "data_array = block.create_data_array(\"category data\", \"nix.categorical\", data=temperatures, label=\"temperature\", unit=\"K\")\n",
    "data_array.append_set_dimension(labels=months)\n",
    "\n",
    "nixfile.close()"
   ]
  },
  {
   "cell_type": "markdown",
   "metadata": {},
   "source": [
    "## 2-D data\n",
    "\n",
    "**DataArrays** can store n-dimensional data. In such cases we need to provide n dimension descriptors.\n",
    "\n",
    "![data model](resources/D1S3/multiple_channels.png)\n",
    "\n",
    "The first dimension represents time, the second the channels. Since the data is regularly sampled the time dimension is fully described by a **SampledDimension**, the channel dimension is described by a **SetDimension** which contains the channel names."
   ]
  },
  {
   "cell_type": "code",
   "execution_count": 17,
   "metadata": {
    "ExecuteTime": {
     "end_time": "2024-09-24T20:12:45.856883Z",
     "start_time": "2024-09-24T20:12:45.811239Z"
    }
   },
   "outputs": [],
   "source": [
    "def create_data(duration=10, num_channels=10, dt=0.0001):\n",
    "    samples = int(duration / dt)\n",
    "    data = np.zeros((samples, num_channels))\n",
    "    time = np.arange(samples) * dt\n",
    "    for i in range(num_channels):\n",
    "        phase = i * 2 * np.pi / num_channels\n",
    "        data[:, i] = np.sin(2 * np.pi * time + phase) + (np.random.randn(samples) * 0.1)\n",
    "\n",
    "    return data\n",
    "\n",
    "\n",
    "dt = 0.001\n",
    "duration = 10\n",
    "number_of_channels = 10\n",
    "multichannel_data = create_data(duration, number_of_channels, dt)\n",
    "\n",
    "nixfile = nixio.File.open(\"multichannel_data.nix\", nixio.FileMode.Overwrite)\n",
    "block = nixfile.create_block(\"Session 1\", \"nix.recording_session\")\n",
    "\n",
    "data_array = block.create_data_array(\"multichannel_data\", \"nix.sampled.multichannel\", data=multichannel_data, label=\"voltage\", unit=\"mV\")\n",
    "data_array.append_sampled_dimension(0.001, label=\"time\", unit=\"s\")\n",
    "data_array.append_set_dimension(labels=[\"channel %i\" % i for i in range(number_of_channels)])\n",
    "\n",
    "nixfile.close()"
   ]
  },
  {
   "cell_type": "markdown",
   "metadata": {},
   "source": [
    "# Tagging\n",
    "\n",
    "Tagging is the mechanism by which we can annotate points or regions in recorded data.\n",
    "\n",
    "![data model](resources/D1S3/tag1.png)\n",
    "\n",
    "For example, at some point a stimulus is switched on and the system's response to the stimulus is recorded.\n",
    "\n",
    "To define this region we need to specify the starting point and the extent (in this example, the duration) of the stimulus-on time.\n",
    "\n",
    "![data model](resources/D1S3/tag2.png)\n",
    "\n",
    "Translated to NIX we have:\n",
    "\n",
    "1. The **DataArray** that stores the *response* data\n",
    "2. The starting point (time) of stimulus onset\n",
    "3. The stimulus duration\n",
    "\n",
    "## Tag\n",
    "\n",
    "The **Tag** entity stores this information and links it to the recorded data:\n"
   ]
  },
  {
   "cell_type": "code",
   "execution_count": 18,
   "metadata": {
    "ExecuteTime": {
     "end_time": "2024-09-24T20:12:46.077704Z",
     "start_time": "2024-09-24T20:12:45.868680Z"
    }
   },
   "outputs": [],
   "source": [
    "import nixio\n",
    "import numpy as np\n",
    "import scipy.signal as signal\n",
    "\n",
    "def butter_lowpass(highcut, fs, order=5):\n",
    "    \"\"\"creates a butterworth lowpass filter.\n",
    "\n",
    "    Args:\n",
    "        highcut (double): the cutoff frequency in Hz\n",
    "        fs (int): the sampling rate of the data\n",
    "        order (int, optional): the order of the low-pass filter. Defaults to 5.\n",
    "\n",
    "    Returns:\n",
    "        b, a (np.array): the filter coefficients\n",
    "    \"\"\"\n",
    "    nyq = 0.5 * fs\n",
    "    high = highcut / nyq\n",
    "    b, a = signal.butter(order, high, btype='low')\n",
    "\n",
    "    return b, a\n",
    "\n",
    "def butter_highpass(lowcut, fs, order=5):\n",
    "    \"\"\"creates a butterworth highpass filter.\n",
    "\n",
    "    Args:\n",
    "        highcut (double): the cutoff frequency in Hz\n",
    "        fs (int): the sampling rate of the data\n",
    "        order (int, optional): the order of the low-pass filter. Defaults to 5.\n",
    "\n",
    "    Returns:\n",
    "        b, a (np.array): the filter coefficients\n",
    "    \"\"\"\n",
    "    nyq = 0.5 * fs\n",
    "    low = lowcut / nyq\n",
    "    b, a = signal.butter(order, low, btype='high')\n",
    "\n",
    "    return b, a\n",
    "\n",
    "def butter_bandpass_filter(data, lowcut, highcut, fs, lporder=1, hporder=1):\n",
    "    \"\"\" Applies an butterworth bandpass filter to the data. \n",
    "    Args:\n",
    "        data: the data that should be filtered. Must be one dimensional.\n",
    "        lowcut (double): the lowpass cutoff frequency in Hz\n",
    "        highcut (double): the highpass filter cutoff frequency in Hz.\n",
    "        fs (int): the sampling frequency of the data.\n",
    "        lporder (int): the order of the lowpass filter. Defaults to 1.\n",
    "        hporder (int): the order of the highpass filter. Defaults to 1.\n",
    "    \n",
    "    Returns:\n",
    "        y (np.array): the filtered data.\n",
    "    \"\"\"\n",
    "    data = np.squeeze(data)\n",
    "    if len(data.shape) > 1:\n",
    "        raise ValueError(\"data must be 1-D!\")\n",
    "    \n",
    "    lpb, lpa = butter_lowpass(highcut, fs, order=lporder)\n",
    "    hpb, hpa = butter_highpass(lowcut, fs, order=hporder)\n",
    "    y = signal.lfilter(lpb, lpa, data)\n",
    "    y = signal.lfilter(hpb, hpa, y)\n",
    "\n",
    "    return y\n",
    "\n",
    "def create_data(duration, dt, stim_on, stim_off, stim_amplitude):\n",
    "    time = np.arange(0., duration, dt)\n",
    "    stimulus = np.zeros(time.shape)\n",
    "    stimulus[(time >= stim_on) & (time < stim_off)] = stim_amplitude\n",
    "    response = butter_bandpass_filter(stimulus, .25, 10., 1. / dt)\n",
    "\n",
    "    return time, stimulus, response\n",
    "\n",
    "\n",
    "def main():\n",
    "    interval = 0.001\n",
    "    duration = 3.5\n",
    "    stim_on = 0.5\n",
    "    stim_off = 2.5\n",
    "    stim_amplitude = 1.0\n",
    "\n",
    "    time, _, response = create_data(duration, interval, stim_on, stim_off, stim_amplitude)\n",
    "\n",
    "    nixfile = nixio.File.open(\"tagging1.nix\", nixio.FileMode.Overwrite)\n",
    "    block = nixfile.create_block(\"demo block\", \"nix.session\")\n",
    "\n",
    "    # *********  This is the interesting part **********\n",
    "    data = block.create_data_array(\"response\", \"nix.sampled\", data=response, label=\"voltage\", unit=\"mV\")\n",
    "    data.append_sampled_dimension(interval, label=\"time\", unit=\"s\")\n",
    "\n",
    "    stim_tag = block.create_tag(\"stimulus\", \"nix.stimulus_segment\", position=[stim_on])\n",
    "    stim_tag.extent = [stim_off - stim_on]\n",
    "    stim_tag.references.append(data)\n",
    "    # **************************************************\n",
    "    nixfile.close()\n",
    "\n",
    "main()"
   ]
  },
  {
   "cell_type": "markdown",
   "metadata": {},
   "source": [
    "The **Tag** is created with the *position*, and is given the *extent* to the stimulus-on segment. It \"refers\" to the response data. \n",
    "\n",
    "**Notes:**\n",
    "\n",
    "1. **Tags** can tag points or segments in several **DataArrays** at once, hence they store a list of *references*. \n",
    "2. The data might be n-dimensional therefore *position* and *extent* need to be lists (one entry for each dimension).\n",
    "\n",
    "## Reading tagged data\n",
    "\n",
    "Tagging alone is nice, but we may want to work with the data dring the stimulus-on period, that is, we need to read it from file.\n"
   ]
  },
  {
   "cell_type": "code",
   "execution_count": 23,
   "metadata": {
    "ExecuteTime": {
     "end_time": "2024-09-24T20:12:46.234343Z",
     "start_time": "2024-09-24T20:12:46.088537Z"
    }
   },
   "outputs": [
    {
     "data": {
      "image/png": "[encoded data removed]",
      "text/plain": [
       "<Figure size 640x480 with 1 Axes>"
      ]
     },
     "metadata": {
      "image/png": {
       "height": 432,
       "width": 562
      }
     },
     "output_type": "display_data"
    }
   ],
   "source": [
    "import nixio\n",
    "\n",
    "# %config InlineBackend.figure_formats = ['retina'] # only for users with a high resolution display\n",
    "import matplotlib.pyplot as plt\n",
    "%matplotlib inline\n",
    "\n",
    "nixfile = nixio.File.open(\"tagging1.nix\", nixio.FileMode.ReadOnly)\n",
    "block = nixfile.blocks[0]\n",
    "\n",
    "stimulus_tag = block.tags[\"stimulus\"]\n",
    "stimulus_response_data = stimulus_tag.tagged_data(\"response\")[:]\n",
    "time = stimulus_tag.references[\"response\"].dimensions[0].axis(len(stimulus_response_data), start_position=stimulus_tag.position[0])\n",
    "\n",
    "plt.plot(time, stimulus_response_data)\n",
    "plt.show()\n",
    "nixfile.close()"
   ]
  },
  {
   "cell_type": "markdown",
   "metadata": {},
   "source": [
    "**Tags** work in the unit of the data, respectively its dimension. It is, however, possible to provide diverging units to the **Tag**.\n",
    "\n",
    "```\n",
    "    # *********  This is the interesting part **********\n",
    "    data = block.create_data_array(\"response\", \"nix.sampled\", data=response, label=\"voltage\", unit=\"mV\")\n",
    "    data.append_sampled_dimension(interval, label=\"time\", unit=\"s\")  # dimension is defined in seconds\n",
    "\n",
    "    stim_tag = block.create_tag(\"stimulus\", \"nix.stimulus_segment\", position=[stim_on * 1000])\n",
    "    stim_tag.extent = [(stim_off - stim_on) * 1000]\n",
    "    stim_tag.units = [\"ms\"]  # the tag is specified in milli seconds\n",
    "    stim_tag.references.append(data)\n",
    "    # **************************************************\n",
    "```\n",
    "\n",
    "Retrieving the tagged data works regardless. Units are scaled and handled transparently by the library. \n",
    "\n",
    "**Note:** This works only for SI units."
   ]
  },
  {
   "cell_type": "markdown",
   "metadata": {},
   "source": [
    "## Data and Metadata (data annotation)"
   ]
  },
  {
   "cell_type": "markdown",
   "metadata": {},
   "source": [
    "### What are metadata and why are they needed?"
   ]
  },
  {
   "cell_type": "markdown",
   "metadata": {},
   "source": [
    "With NIX, metadata can be stored alongside the data it belongs to.\n",
    "\n",
    "The process of collecting the metadata can be automatized and the results are machine readable and can be searched programatically."
   ]
  },
  {
   "cell_type": "markdown",
   "metadata": {},
   "source": [
    "## Data and data annotation in the same NIX file"
   ]
  },
  {
   "cell_type": "markdown",
   "metadata": {},
   "source": [
    "The entities of the NIX data model that were discussed so far carry enough information to get sufficient knowledge to understand the stored data (dimensions, units, labels). Often much more information than that is required to fully interpret the underlying experiment."
   ]
  },
  {
   "cell_type": "markdown",
   "metadata": {},
   "source": [
    "NIX does not only allow to save initial data and analysed data within the same file. It also allows to create structured annotations of the experiments that were conducted and connects this information directly with the data."
   ]
  },
  {
   "cell_type": "markdown",
   "metadata": {},
   "source": [
    "Metadata in NIX files is stored in the [odML format](https://g-node.github.io/python-odml):\n",
    "- odML is a hierarchically structured data format that provides grouping in nestable `Sections`.\n",
    "- `Sections` can hold both `Sections` and `Properties`.\n",
    "- metadata information is stored in `Property`-`Value` pairs.\n",
    "- `Sections` are the main structural elements, while `Properties` hold the actual metadata information."
   ]
  },
  {
   "cell_type": "markdown",
   "metadata": {},
   "source": [
    "### The odml data model in NIX\n",
    "![](./resources/D1S3/nix_odML_model_simplified.png)"
   ]
  },
  {
   "cell_type": "markdown",
   "metadata": {},
   "source": [
    " On a conceptual level, data and metadata in a NIX file live side by side in parallel trees. The different layers can be connected from the data tree to the metadata tree. Corresponding data can be retrieved when exploring the metadata tree."
   ]
  },
  {
   "cell_type": "markdown",
   "metadata": {},
   "source": [
    "    --------------- NIX File --------\n",
    "    ├─ Section              <---     ├─ Block\n",
    "    |  ├─ Section                    |  ├─ DataArray\n",
    "    |  |  └─ Property                |  ├─ DataArray\n",
    "    |  └─ Section                    |  ├─ Tag\n",
    "    |     └─ Property                |  └─ Multitag\n",
    "    └─ Section              <---     └─ Block\n",
    "       └─ Section           <---        ├─ DataArray\n",
    "          ├─ Property                   ├─ DataArray\n",
    "          ├─ Property                   └─ Group\n",
    "          └─ Property                    \n"
   ]
  },
  {
   "cell_type": "markdown",
   "metadata": {},
   "source": [
    "# Storing metadata in NIX"
   ]
  },
  {
   "cell_type": "markdown",
   "metadata": {},
   "source": [
    "## Metadata basics: creating Section-Property trees and navigation"
   ]
  },
  {
   "cell_type": "markdown",
   "metadata": {},
   "source": [
    "To introduce the usage of metadata functions in NIX, we'll keep it simple and abstract for now."
   ]
  },
  {
   "cell_type": "code",
   "execution_count": 19,
   "metadata": {
    "ExecuteTime": {
     "end_time": "2024-09-24T20:12:46.247128Z",
     "start_time": "2024-09-24T20:12:46.245492Z"
    }
   },
   "outputs": [],
   "source": [
    "import nixio\n"
   ]
  },
  {
   "cell_type": "code",
   "execution_count": 20,
   "metadata": {
    "ExecuteTime": {
     "end_time": "2024-09-24T20:12:46.302671Z",
     "start_time": "2024-09-24T20:12:46.296044Z"
    }
   },
   "outputs": [],
   "source": [
    "# Lets explore the metadata functions of NIX before going more into detail\n",
    "# We will re-use this file throughout the following examples\n",
    "f = nixio.File.open(\"metadata.nix\", nixio.FileMode.Overwrite)\n"
   ]
  },
  {
   "cell_type": "code",
   "execution_count": 21,
   "metadata": {
    "ExecuteTime": {
     "end_time": "2024-09-24T20:12:46.361200Z",
     "start_time": "2024-09-24T20:12:46.358135Z"
    }
   },
   "outputs": [
    {
     "name": "stdout",
     "output_type": "stream",
     "text": [
      "[]\n"
     ]
    }
   ],
   "source": [
    "# As expected there are no metadata in our current file yet.\n",
    "print(f.sections)\n"
   ]
  },
  {
   "cell_type": "code",
   "execution_count": 22,
   "metadata": {
    "ExecuteTime": {
     "end_time": "2024-09-24T20:12:46.424168Z",
     "start_time": "2024-09-24T20:12:46.420357Z"
    }
   },
   "outputs": [
    {
     "data": {
      "text/plain": [
       "[Section: {name = recording.20210405, type = raw.data.recording}]"
      ]
     },
     "execution_count": 22,
     "metadata": {},
     "output_type": "execute_result"
    }
   ],
   "source": [
    "# First we need to create a Section that can hold our annotations. \n",
    "# We'll use abstract names and types for now.\n",
    "sec = f.create_section(name=\"recording.20210405\", \n",
    "                       type_=\"raw.data.recording\")\n",
    "\n",
    "f.sections\n"
   ]
  },
  {
   "cell_type": "code",
   "execution_count": 23,
   "metadata": {
    "ExecuteTime": {
     "end_time": "2024-09-24T20:12:46.478823Z",
     "start_time": "2024-09-24T20:12:46.476148Z"
    }
   },
   "outputs": [
    {
     "data": {
      "text/plain": [
       "[]"
      ]
     },
     "execution_count": 23,
     "metadata": {},
     "output_type": "execute_result"
    }
   ],
   "source": [
    "# Sections can hold further multiple Sections as well as \n",
    "# multiple Properties.\n",
    "sec.sections\n"
   ]
  },
  {
   "cell_type": "code",
   "execution_count": 24,
   "metadata": {
    "ExecuteTime": {
     "end_time": "2024-09-24T20:12:46.539276Z",
     "start_time": "2024-09-24T20:12:46.536609Z"
    }
   },
   "outputs": [
    {
     "data": {
      "text/plain": [
       "[]"
      ]
     },
     "execution_count": 24,
     "metadata": {},
     "output_type": "execute_result"
    }
   ],
   "source": [
    "# The section currently does not contain any Properties.\n",
    "sec.props"
   ]
  },
  {
   "cell_type": "code",
   "execution_count": 25,
   "metadata": {
    "ExecuteTime": {
     "end_time": "2024-09-24T20:12:46.599730Z",
     "start_time": "2024-09-24T20:12:46.597007Z"
    }
   },
   "outputs": [],
   "source": [
    "# We want to add information about a subject that was used in the \n",
    "# experiment.\n",
    "sub_sec = sec.create_section(name=\"subject\", \n",
    "                             type_=\"raw.data.recording\")\n"
   ]
  },
  {
   "cell_type": "code",
   "execution_count": 26,
   "metadata": {
    "ExecuteTime": {
     "end_time": "2024-09-24T20:12:46.650376Z",
     "start_time": "2024-09-24T20:12:46.645154Z"
    }
   },
   "outputs": [],
   "source": [
    "# We'll add metadata about subjectID, subject species and \n",
    "# subject age as Properties to the \"Subject\" section.\n",
    "_ = sub_sec.create_property(name=\"subjectID\", \n",
    "                            values_or_dtype=\"78376446-f096-47b9-8bfe-ce1eb43a48dc\")\n",
    "\n",
    "_ = sub_sec.create_property(name=\"species\", \n",
    "                            values_or_dtype=\"Mus Musculus\")\n",
    "\n",
    "# To fully describe metadata, properties support saving \"unit\" \n",
    "# and \"uncertainty\" together with values.\n",
    "prop = sub_sec.create_property(name=\"age\", \n",
    "                               values_or_dtype=\"4\")\n",
    "\n",
    "prop.unit = \"weeks\"\n",
    "# prop.uncertainty"
   ]
  },
  {
   "cell_type": "code",
   "execution_count": 27,
   "metadata": {
    "ExecuteTime": {
     "end_time": "2024-09-24T20:12:46.703436Z",
     "start_time": "2024-09-24T20:12:46.697614Z"
    }
   },
   "outputs": [
    {
     "data": {
      "text/plain": [
       "[Section: {name = recording.20210405, type = raw.data.recording}]"
      ]
     },
     "execution_count": 27,
     "metadata": {},
     "output_type": "execute_result"
    }
   ],
   "source": [
    "# Lets check what we have so far at the root of the file.\n",
    "f.sections\n"
   ]
  },
  {
   "cell_type": "code",
   "execution_count": 28,
   "metadata": {
    "ExecuteTime": {
     "end_time": "2024-09-24T20:12:46.769663Z",
     "start_time": "2024-09-24T20:12:46.764847Z"
    }
   },
   "outputs": [
    {
     "name": "stdout",
     "output_type": "stream",
     "text": [
      "File: name = metadata.nix\n",
      "  recording.20210405 [raw.data.recording]\n",
      "    subject [raw.data.recording]\n",
      "        |- subjectID: ('78376446-f096-47b9-8bfe-ce1eb43a48dc',)\n",
      "        |- species: ('Mus Musculus',)\n",
      "        |- age: ('4',)weeks\n"
     ]
    }
   ],
   "source": [
    "# File and Sections also support the \"pprint\" function to make it easier \n",
    "# to get an overview of the contents of the metadata tree.\n",
    "f.pprint()"
   ]
  },
  {
   "cell_type": "code",
   "execution_count": 29,
   "metadata": {
    "ExecuteTime": {
     "end_time": "2024-09-24T20:12:46.830841Z",
     "start_time": "2024-09-24T20:12:46.826106Z"
    }
   },
   "outputs": [
    {
     "data": {
      "text/plain": [
       "[Property: {name = subjectID}, Property: {name = species}, Property: {name = age}]"
      ]
     },
     "execution_count": 29,
     "metadata": {},
     "output_type": "execute_result"
    }
   ],
   "source": [
    "# We access all Properties of the subsection containing subject related \n",
    "# information.\n",
    "# Sections can be accessed via index or via name\n",
    "f.sections[0].sections['subject'].props\n"
   ]
  },
  {
   "cell_type": "code",
   "execution_count": 30,
   "metadata": {
    "ExecuteTime": {
     "end_time": "2024-09-24T20:12:46.883925Z",
     "start_time": "2024-09-24T20:12:46.879357Z"
    }
   },
   "outputs": [
    {
     "name": "stdout",
     "output_type": "stream",
     "text": [
      "subject [raw.data.recording]\n",
      "    |- subjectID: ('78376446-f096-47b9-8bfe-ce1eb43a48dc',)\n",
      "    |- species: ('Mus Musculus',)\n",
      "    |- age: ('4',)weeks\n"
     ]
    }
   ],
   "source": [
    "# We can also again use the pprint function\n",
    "f.sections[0].sections['subject'].pprint()"
   ]
  },
  {
   "cell_type": "code",
   "execution_count": 31,
   "metadata": {
    "ExecuteTime": {
     "end_time": "2024-09-24T20:12:46.985903Z",
     "start_time": "2024-09-24T20:12:46.939967Z"
    }
   },
   "outputs": [],
   "source": [
    "f.close()"
   ]
  },
  {
   "cell_type": "markdown",
   "metadata": {},
   "source": [
    "## Connecting data and metadata"
   ]
  },
  {
   "cell_type": "markdown",
   "metadata": {},
   "source": [
    "Until now we have seen how to create and store metadata in NIX files. Now we can check how to connect them to actual data."
   ]
  },
  {
   "cell_type": "code",
   "execution_count": 32,
   "metadata": {
    "ExecuteTime": {
     "end_time": "2024-09-24T20:12:47.042878Z",
     "start_time": "2024-09-24T20:12:47.035753Z"
    }
   },
   "outputs": [],
   "source": [
    "f = nixio.File.open(\"metadata.nix\", nixio.FileMode.ReadWrite)"
   ]
  },
  {
   "cell_type": "markdown",
   "metadata": {},
   "source": [
    "We'll add some minimal abstract data"
   ]
  },
  {
   "cell_type": "code",
   "execution_count": 33,
   "metadata": {
    "ExecuteTime": {
     "end_time": "2024-09-24T20:12:47.088505Z",
     "start_time": "2024-09-24T20:12:47.085119Z"
    }
   },
   "outputs": [],
   "source": [
    "rec_block = f.create_block(name=\"project.recordings\", \n",
    "                           type_=\"example.raw.data\")"
   ]
  },
  {
   "cell_type": "code",
   "execution_count": 34,
   "metadata": {
    "ExecuteTime": {
     "end_time": "2024-09-24T20:12:47.149821Z",
     "start_time": "2024-09-24T20:12:47.137721Z"
    }
   },
   "outputs": [
    {
     "data": {
      "text/plain": [
       "SampledDimension: {index = 1}"
      ]
     },
     "execution_count": 34,
     "metadata": {},
     "output_type": "execute_result"
    }
   ],
   "source": [
    "example_data_01 = [2, 2, 2, 6, 6, 6, 6, 2, 2, 2]\n",
    "da = rec_block.create_data_array(name=\"recording.20210405\", \n",
    "                                 array_type=\"shift.data\", \n",
    "                                 data=example_data_01,\n",
    "                                 label=\"df/f\")\n",
    "\n",
    "da.append_sampled_dimension(0.001, label=\"time\", unit=\"s\")"
   ]
  },
  {
   "cell_type": "code",
   "execution_count": 35,
   "metadata": {
    "ExecuteTime": {
     "end_time": "2024-09-24T20:12:47.208448Z",
     "start_time": "2024-09-24T20:12:47.202782Z"
    }
   },
   "outputs": [
    {
     "data": {
      "text/plain": [
       "SampledDimension: {index = 1}"
      ]
     },
     "execution_count": 35,
     "metadata": {},
     "output_type": "execute_result"
    }
   ],
   "source": [
    "example_data_02 = [2, 2, 2, 8, 8, 8, 8, 2, 2, 2]\n",
    "da = rec_block.create_data_array(name=\"recording.20210505.01\", \n",
    "                                 array_type=\"shift.data\", \n",
    "                                 data=example_data_02,\n",
    "                                 label=\"df/f\")\n",
    "\n",
    "da.append_sampled_dimension(0.001, label=\"time\", unit=\"s\")"
   ]
  },
  {
   "cell_type": "markdown",
   "metadata": {},
   "source": [
    "We'll also create a NIX Tag, that will reference a specific region in the data. We create the Tag on the same Block as the DataArrays \n",
    "it should reference."
   ]
  },
  {
   "cell_type": "code",
   "execution_count": 36,
   "metadata": {
    "ExecuteTime": {
     "end_time": "2024-09-24T20:12:47.277968Z",
     "start_time": "2024-09-24T20:12:47.270033Z"
    }
   },
   "outputs": [],
   "source": [
    "\n",
    "stim_on = 4\n",
    "stim_off = 8\n",
    "\n",
    "stimulus_tag = rec_block.create_tag(\"stimulus.down.3\", \n",
    "                                    \"stimulus.shift\", \n",
    "                                    position=[stim_on])\n",
    "\n",
    "stimulus_tag.extent = [stim_off - stim_on]\n",
    "\n",
    "stimulus_tag.references.append(\n",
    "    f.blocks[\"project.recordings\"].data_arrays[\"recording.20210405\"])\n",
    "stimulus_tag.references.append(\n",
    "    f.blocks[\"project.recordings\"].data_arrays[\"recording.20210505.01\"])"
   ]
  },
  {
   "cell_type": "markdown",
   "metadata": {},
   "source": [
    "Now we want to hook up the DataArrays and the Tag to more information via the metadata we have defined before. We will only reference the appropriate metadata for recording 20210405, since we have not defined metadata for the second recording yet. We'll set the metadata for both data array and tag"
   ]
  },
  {
   "cell_type": "code",
   "execution_count": 37,
   "metadata": {
    "ExecuteTime": {
     "end_time": "2024-09-24T20:12:47.321128Z",
     "start_time": "2024-09-24T20:12:47.316868Z"
    }
   },
   "outputs": [],
   "source": [
    "f.blocks[\"project.recordings\"].data_arrays[\"recording.20210405\"].metadata = \\\n",
    "    f.sections[\"recording.20210405\"]\n",
    "f.blocks[\"project.recordings\"].tags[\"stimulus.down.3\"].metadata = \\\n",
    "    f.sections[\"recording.20210405\"]\n"
   ]
  },
  {
   "cell_type": "markdown",
   "metadata": {},
   "source": [
    "We can now access the metadata from DataArray and Tag."
   ]
  },
  {
   "cell_type": "code",
   "execution_count": 38,
   "metadata": {
    "ExecuteTime": {
     "end_time": "2024-09-24T20:12:47.384577Z",
     "start_time": "2024-09-24T20:12:47.374490Z"
    }
   },
   "outputs": [
    {
     "name": "stdout",
     "output_type": "stream",
     "text": [
      "recording.20210405 [raw.data.recording]\n",
      "  subject [raw.data.recording]\n",
      "      |- subjectID: ('78376446-f096-47b9-8bfe-ce1eb43a48dc',)\n",
      "      |- species: ('Mus Musculus',)\n",
      "      |- age: ('4',)weeks\n"
     ]
    }
   ],
   "source": [
    "f.blocks[\"project.recordings\"].data_arrays[\"recording.20210405\"].metadata.pprint()\n"
   ]
  },
  {
   "cell_type": "code",
   "execution_count": 39,
   "metadata": {
    "ExecuteTime": {
     "end_time": "2024-09-24T20:12:47.437395Z",
     "start_time": "2024-09-24T20:12:47.431707Z"
    }
   },
   "outputs": [
    {
     "name": "stdout",
     "output_type": "stream",
     "text": [
      "recording.20210405 [raw.data.recording]\n",
      "  subject [raw.data.recording]\n",
      "      |- subjectID: ('78376446-f096-47b9-8bfe-ce1eb43a48dc',)\n",
      "      |- species: ('Mus Musculus',)\n",
      "      |- age: ('4',)weeks\n"
     ]
    }
   ],
   "source": [
    "f.blocks[\"project.recordings\"].tags[\"stimulus.down.3\"].metadata.pprint()\n"
   ]
  },
  {
   "cell_type": "code",
   "execution_count": null,
   "metadata": {
    "ExecuteTime": {
     "end_time": "2024-09-24T20:12:47.487160Z",
     "start_time": "2024-09-24T20:12:47.485612Z"
    }
   },
   "outputs": [],
   "source": []
  }
 ],
 "metadata": {
  "interpreter": {
   "hash": "aee8b7b246df8f9039afb4144a1f6fd8d2ca17a180786b69acc140d282b71a49"
  },
  "kernelspec": {
   "display_name": "Python 3 (ipykernel)",
   "language": "python",
   "name": "python3"
  },
  "language_info": {
   "codemirror_mode": {
    "name": "ipython",
    "version": 3
   },
   "file_extension": ".py",
   "mimetype": "text/x-python",
   "name": "python",
   "nbconvert_exporter": "python",
   "pygments_lexer": "ipython3",
   "version": "3.12.5"
  }
 },
 "nbformat": 4,
 "nbformat_minor": 4
}
