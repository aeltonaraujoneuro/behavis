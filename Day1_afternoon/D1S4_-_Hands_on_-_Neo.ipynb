{
 "cells": [
  {
   "cell_type": "markdown",
   "id": "a20f7712",
   "metadata": {},
   "source": [
    "# Hands-on session 2: Neo\n",
    "\n",
    "Files for this exercise are in the ``resources/D1S4`` folder, and are taken from [l101210-001.ns2](https://gin.g-node.org/NeuralEnsemble/ephy_testing_data/raw/master/blackrock/blackrock_2_1/l101210-001.ns2), [l101210-001.nev](https://gin.g-node.org/NeuralEnsemble/ephy_testing_data/raw/master/blackrock/blackrock_2_1/l101210-001.nev) and [l101210-001.ns5](https://gin.g-node.org/NeuralEnsemble/ephy_testing_data/raw/master/blackrock/blackrock_2_1/l101210-001.ns5).\n"
   ]
  },
  {
   "cell_type": "markdown",
   "id": "95c26202",
   "metadata": {},
   "source": [
    "\n",
    "## Exercise 1: Exploring an ephys dataset\n",
    "\n",
    "1. Load the dataset with Neo. Which IO seems suitable for this dataset?\n",
    "2. How many continuous recording parts (segments) does this dataset contain?\n",
    "3. How many channels were recorded in this dataset and at what sampling rates?\n",
    "4. How many spiketrains does this dataset contain?\n",
    "\n",
    "### Your solution"
   ]
  },
  {
   "cell_type": "code",
   "execution_count": 6,
   "id": "da062783",
   "metadata": {},
   "outputs": [
    {
     "data": {
      "text/plain": [
       "'resources\\\\D1S4\\\\l101210-001.ns2'"
      ]
     },
     "execution_count": 6,
     "metadata": {},
     "output_type": "execute_result"
    }
   ],
   "source": [
    "import neo\n",
    "import os"
   ]
  },
  {
   "cell_type": "code",
   "execution_count": 37,
   "id": "4fa3decf",
   "metadata": {},
   "outputs": [
    {
     "data": {
      "text/plain": [
       "218"
      ]
     },
     "execution_count": 37,
     "metadata": {},
     "output_type": "execute_result"
    }
   ],
   "source": [
    "io = neo.io.BlackrockIO(os.path.join('resources', 'D1S4', 'l101210-001.ns2'))\n",
    "block = io.read_block()\n",
    "\n",
    "print(f'Number of segments: {len(block.segments)}')\n",
    "for anasig in block.segments[0].analogsignals:\n",
    "    print(f'Analog signal: {anasig.name} with shape {anasig.shape}')\n",
    "n_channels = block.segments[0].analogsignals[0].shape[1] + block.segments[0].analogsignals[1].shape[1]\n",
    "sampling_rate = block.segments[0].analogsignals[0].sampling_rate\n",
    "n_spike_trains = len(block.segments[0].spiketrains)\n",
    "n_spike_trains"
   ]
  },
  {
   "cell_type": "markdown",
   "id": "31ba447a",
   "metadata": {},
   "source": [
    "## Exercise 2: Extracting data for visualization\n",
    "1. Visualize the channels 10 to 19 of the `AnalogSignal` with the highest temporal resolution. \n",
    "2. Add axis labels, title and legend based on metadata provided by the `AnalogSignal`. Check the `array_annotations` to label each channel.\n",
    "\n",
    "### Your solution"
   ]
  },
  {
   "cell_type": "code",
   "execution_count": 53,
   "id": "1a2459d0",
   "metadata": {},
   "outputs": [
    {
     "data": {
      "text/plain": [
       "102"
      ]
     },
     "execution_count": 53,
     "metadata": {},
     "output_type": "execute_result"
    }
   ],
   "source": [
    "n_channels"
   ]
  },
  {
   "cell_type": "markdown",
   "id": "766cb710",
   "metadata": {},
   "source": [
    "## Exercise 3: Saving the dataset using NIX\n",
    "- Save the complete dataset in a new file named `l101210-001.nix`\n",
    "- What is the size of the resulting nix file?\n",
    "\n",
    "### Your solution"
   ]
  },
  {
   "cell_type": "code",
   "execution_count": null,
   "id": "cc5336bb",
   "metadata": {},
   "outputs": [],
   "source": []
  }
 ],
 "metadata": {
  "kernelspec": {
   "display_name": "Python 3 (ipykernel)",
   "language": "python",
   "name": "python3"
  },
  "language_info": {
   "codemirror_mode": {
    "name": "ipython",
    "version": 3
   },
   "file_extension": ".py",
   "mimetype": "text/x-python",
   "name": "python",
   "nbconvert_exporter": "python",
   "pygments_lexer": "ipython3",
   "version": "3.12.5"
  }
 },
 "nbformat": 4,
 "nbformat_minor": 5
}
